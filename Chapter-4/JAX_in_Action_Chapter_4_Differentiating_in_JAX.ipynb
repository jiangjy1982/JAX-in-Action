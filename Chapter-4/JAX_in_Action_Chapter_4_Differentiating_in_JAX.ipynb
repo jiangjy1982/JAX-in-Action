{
  "cells": [
    {
      "cell_type": "code",
      "execution_count": 1,
      "metadata": {
        "id": "pULeWpb_V1an"
      },
      "outputs": [],
      "source": [
        "import numpy as np\n",
        "import matplotlib.pyplot as plt"
      ]
    },
    {
      "cell_type": "code",
      "execution_count": 2,
      "metadata": {
        "id": "zeEW8C9oWLoe"
      },
      "outputs": [],
      "source": [
        "import jax\n",
        "import jax.numpy as jnp"
      ]
    },
    {
      "cell_type": "code",
      "execution_count": 3,
      "metadata": {
        "colab": {
          "base_uri": "https://localhost:8080/",
          "height": 35
        },
        "id": "11gg-e1GraWL",
        "outputId": "677adad3-1c25-466b-d031-278c7457a005"
      },
      "outputs": [
        {
          "data": {
            "text/plain": [
              "'0.4.30'"
            ]
          },
          "execution_count": 3,
          "metadata": {},
          "output_type": "execute_result"
        }
      ],
      "source": [
        "jax.__version__"
      ]
    },
    {
      "cell_type": "markdown",
      "metadata": {
        "id": "xxfy0vIEwUhs"
      },
      "source": [
        "## When differentiating with respect to the first parameter is not enough"
      ]
    },
    {
      "cell_type": "code",
      "execution_count": 4,
      "metadata": {
        "id": "UxLj0c5OwVm2"
      },
      "outputs": [],
      "source": [
        "def dist(order, x, y):\n",
        "  return jnp.power(jnp.sum(jnp.abs(x-y)**order), 1.0/order)"
      ]
    },
    {
      "cell_type": "code",
      "execution_count": 5,
      "metadata": {
        "id": "yntT1Gucw5Uk"
      },
      "outputs": [],
      "source": [
        "dist_d_x = jax.grad(dist, argnums=1)"
      ]
    },
    {
      "cell_type": "code",
      "execution_count": 7,
      "metadata": {
        "colab": {
          "base_uri": "https://localhost:8080/"
        },
        "id": "h5kM5DmsylXF",
        "outputId": "b8593862-8dd8-4f09-87d0-a057819428e6"
      },
      "outputs": [
        {
          "data": {
            "text/plain": [
              "Array([-1., -1., -1.], dtype=float32)"
            ]
          },
          "execution_count": 7,
          "metadata": {},
          "output_type": "execute_result"
        }
      ],
      "source": [
        "dist_d_x(1, jnp.array([1.0,1.0,1.0]), jnp.array([2.0,2.0,2.0]))\n"
      ]
    },
    {
      "cell_type": "code",
      "execution_count": 6,
      "metadata": {
        "id": "jKBZ-qW_w7Av"
      },
      "outputs": [],
      "source": [
        "dist_d_xy = jax.grad(dist, argnums=(1,2))"
      ]
    },
    {
      "cell_type": "code",
      "execution_count": 8,
      "metadata": {
        "colab": {
          "base_uri": "https://localhost:8080/"
        },
        "id": "FgERWvLHwisd",
        "outputId": "4cfa5025-2100-4555-c22f-ece65fe43ae8"
      },
      "outputs": [
        {
          "data": {
            "text/plain": [
              "(Array([-1., -1., -1.], dtype=float32), Array([1., 1., 1.], dtype=float32))"
            ]
          },
          "execution_count": 8,
          "metadata": {},
          "output_type": "execute_result"
        }
      ],
      "source": [
        "dist_d_xy(1, jnp.array([1.0,1.0,1.0]), jnp.array([2.0,2.0,2.0]))"
      ]
    },
    {
      "cell_type": "markdown",
      "metadata": {
        "id": "D0jIp_Zd6QyT"
      },
      "source": [
        "## Differentiating with respect to multiple parameters"
      ]
    },
    {
      "cell_type": "code",
      "execution_count": 9,
      "metadata": {
        "id": "bxbZpTxyDXIr"
      },
      "outputs": [],
      "source": [
        "x = np.linspace(0, 10*np.pi, num=1000)\n",
        "e = np.random.normal(scale=10.0, size=x.size)\n",
        "y = 65.0 + 1.8*x + 40*np.cos(x) + e\n",
        "\n",
        "xt = jnp.array(x)\n",
        "yt = jnp.array(y)\n",
        "learning_rate = 1e-2"
      ]
    },
    {
      "cell_type": "code",
      "execution_count": 10,
      "metadata": {
        "id": "tjj3o9UcwkRO"
      },
      "outputs": [],
      "source": [
        "model_parameters = {\n",
        "    'w': jnp.array([1.]),\n",
        "    'b': jnp.array([1.])\n",
        "    }\n",
        "\n",
        "def model(param_dict, x):\n",
        "    w, b = param_dict['w'], param_dict['b']\n",
        "    return w * x + b\n",
        "\n",
        "def loss_fn(model_parameters, x, y):\n",
        "    prediction = model(model_parameters, x)\n",
        "    return jnp.mean((prediction-y)**2)\n",
        "\n",
        "grads_fn = jax.grad(loss_fn)\n",
        "grads = grads_fn(model_parameters, xt, yt)\n"
      ]
    },
    {
      "cell_type": "code",
      "execution_count": 11,
      "metadata": {
        "colab": {
          "base_uri": "https://localhost:8080/"
        },
        "id": "8gZLSxf56ygP",
        "outputId": "ef556ba6-4aea-4465-9494-2f78fa5cd05c"
      },
      "outputs": [
        {
          "name": "stdout",
          "output_type": "stream",
          "text": [
            "{'b': Array([-152.91595], dtype=float32), 'w': Array([-2533.9158], dtype=float32)}\n"
          ]
        }
      ],
      "source": [
        "print(grads)"
      ]
    },
    {
      "cell_type": "markdown",
      "metadata": {
        "id": "fd81jpFs9tNe"
      },
      "source": [
        "## Returning auxiliary data from a function"
      ]
    },
    {
      "cell_type": "code",
      "execution_count": 12,
      "metadata": {
        "id": "Yy5ReYiV7Dr4"
      },
      "outputs": [],
      "source": [
        "model_parameters = jnp.array([1., 1.])\n",
        "\n",
        "def model(theta, x):\n",
        "    w, b = theta\n",
        "    return w * x + b\n",
        "\n",
        "def loss_fn(model_parameters, x, y):\n",
        "    prediction = model(model_parameters, x)\n",
        "    return jnp.mean((prediction-y)**2), prediction\n",
        "\n",
        "grads_fn = jax.grad(loss_fn, has_aux=True)\n",
        "grads, preds  = grads_fn(model_parameters, xt, yt)\n",
        "model_parameters -= learning_rate * grads\n"
      ]
    },
    {
      "cell_type": "code",
      "execution_count": 13,
      "metadata": {
        "colab": {
          "base_uri": "https://localhost:8080/"
        },
        "id": "OKRqjmrG94rq",
        "outputId": "f912f88d-1451-4db0-cd20-578b50252b4b"
      },
      "outputs": [
        {
          "data": {
            "text/plain": [
              "Array([26.339157 ,  2.5291595], dtype=float32)"
            ]
          },
          "execution_count": 13,
          "metadata": {},
          "output_type": "execute_result"
        }
      ],
      "source": [
        "model_parameters"
      ]
    },
    {
      "cell_type": "code",
      "execution_count": 14,
      "metadata": {
        "colab": {
          "base_uri": "https://localhost:8080/"
        },
        "id": "e2h3GXHJ-Fcj",
        "outputId": "fae3346a-1eb7-4b7e-b9ea-3868355690ec"
      },
      "outputs": [
        {
          "data": {
            "text/plain": [
              "Array([-2533.9158 ,  -152.91595], dtype=float32)"
            ]
          },
          "execution_count": 14,
          "metadata": {},
          "output_type": "execute_result"
        }
      ],
      "source": [
        "grads"
      ]
    },
    {
      "cell_type": "code",
      "execution_count": 15,
      "metadata": {
        "colab": {
          "base_uri": "https://localhost:8080/"
        },
        "id": "rm5xjXXL-G_R",
        "outputId": "c9878128-3d95-4106-9bbb-134923b9f7ca"
      },
      "outputs": [
        {
          "data": {
            "text/plain": [
              "(1000,)"
            ]
          },
          "execution_count": 15,
          "metadata": {},
          "output_type": "execute_result"
        }
      ],
      "source": [
        "preds.shape"
      ]
    },
    {
      "cell_type": "markdown",
      "metadata": {
        "id": "vdTzrN1p_Uyb"
      },
      "source": [
        "## Obtaining both gradient and value of the function"
      ]
    },
    {
      "cell_type": "code",
      "execution_count": 16,
      "metadata": {
        "id": "4tUfYJ6z-JDM"
      },
      "outputs": [],
      "source": [
        "model_parameters = jnp.array([1., 1.])\n",
        "\n",
        "def model(theta, x):\n",
        "    w, b = theta\n",
        "    return w * x + b\n",
        "\n",
        "def loss_fn(model_parameters, x, y):\n",
        "    prediction = model(model_parameters, x)\n",
        "    return jnp.mean((prediction-y)**2), prediction\n",
        "\n",
        "grads_fn = jax.value_and_grad(loss_fn, has_aux=True)\n",
        "(loss, preds), grads  = grads_fn(model_parameters, xt, yt)\n",
        "model_parameters -= learning_rate * grads\n"
      ]
    },
    {
      "cell_type": "code",
      "execution_count": 17,
      "metadata": {
        "colab": {
          "base_uri": "https://localhost:8080/"
        },
        "id": "uOnyuOrq_huU",
        "outputId": "0e1a4830-9639-49b7-f1c4-070ed4c4f4d7"
      },
      "outputs": [
        {
          "data": {
            "text/plain": [
              "Array(6804.6235, dtype=float32)"
            ]
          },
          "execution_count": 17,
          "metadata": {},
          "output_type": "execute_result"
        }
      ],
      "source": [
        "loss"
      ]
    },
    {
      "cell_type": "code",
      "execution_count": 18,
      "metadata": {
        "colab": {
          "base_uri": "https://localhost:8080/"
        },
        "id": "lSE9nhJ__iz_",
        "outputId": "844ed9bd-e5c6-4109-e542-e80d2a7cc00a"
      },
      "outputs": [
        {
          "data": {
            "text/plain": [
              "(1000,)"
            ]
          },
          "execution_count": 18,
          "metadata": {},
          "output_type": "execute_result"
        }
      ],
      "source": [
        "preds.shape"
      ]
    },
    {
      "cell_type": "code",
      "execution_count": 19,
      "metadata": {
        "colab": {
          "base_uri": "https://localhost:8080/"
        },
        "id": "gJONT9X2_jtR",
        "outputId": "0fee6821-30dc-44bc-8434-c615c6e57047"
      },
      "outputs": [
        {
          "data": {
            "text/plain": [
              "Array([-2533.9158 ,  -152.91595], dtype=float32)"
            ]
          },
          "execution_count": 19,
          "metadata": {},
          "output_type": "execute_result"
        }
      ],
      "source": [
        "grads"
      ]
    },
    {
      "cell_type": "markdown",
      "metadata": {
        "id": "AkMizZwdXwwi"
      },
      "source": [
        "# Stopping gradient flow"
      ]
    },
    {
      "cell_type": "code",
      "execution_count": 25,
      "metadata": {
        "id": "X0p_s2h_Xyzj"
      },
      "outputs": [],
      "source": [
        "def f(x, y):\n",
        "  return x**2 + jax.lax.stop_gradient(y**2)\n"
      ]
    },
    {
      "cell_type": "code",
      "execution_count": 26,
      "metadata": {
        "colab": {
          "base_uri": "https://localhost:8080/"
        },
        "id": "rMrxy-N_bZ0w",
        "outputId": "890095e2-b383-4ffe-dc3b-193d675fd155"
      },
      "outputs": [
        {
          "data": {
            "text/plain": [
              "(Array(2., dtype=float32, weak_type=True),\n",
              " Array(0., dtype=float32, weak_type=True))"
            ]
          },
          "execution_count": 26,
          "metadata": {},
          "output_type": "execute_result"
        }
      ],
      "source": [
        "jax.grad(f, argnums=(0,1))(1.0, 1.0)"
      ]
    },
    {
      "cell_type": "markdown",
      "metadata": {
        "id": "LTzq3EMO_3Qt"
      },
      "source": [
        "# Higher-order derivatives"
      ]
    },
    {
      "cell_type": "code",
      "execution_count": 27,
      "metadata": {
        "colab": {
          "base_uri": "https://localhost:8080/"
        },
        "id": "0WQ2yIUN_kS3",
        "outputId": "f35abc0f-dc6f-4c9a-d4f6-266724a10f1d"
      },
      "outputs": [
        {
          "name": "stdout",
          "output_type": "stream",
          "text": [
            "5335.9917\n",
            "1452.0015\n",
            "263.9996\n"
          ]
        }
      ],
      "source": [
        "def f(x):\n",
        "    return x**4 + 12*x + 1/x\n",
        "\n",
        "f_d1 = jax.grad(f)\n",
        "f_d2 = jax.grad(f_d1)\n",
        "f_d3 = jax.grad(f_d2)\n",
        "\n",
        "x = 11.0\n",
        "\n",
        "print(f_d1(x))\n",
        "print(f_d2(x))\n",
        "print(f_d3(x))\n"
      ]
    },
    {
      "cell_type": "code",
      "execution_count": 28,
      "metadata": {
        "colab": {
          "base_uri": "https://localhost:8080/"
        },
        "id": "_J9xXyvR__me",
        "outputId": "eb56abb7-3de3-4dce-8a69-a8d94da3edcb"
      },
      "outputs": [
        {
          "name": "stdout",
          "output_type": "stream",
          "text": [
            "263.9996\n"
          ]
        }
      ],
      "source": [
        "f_d3 = jax.grad(jax.grad(jax.grad(f)))\n",
        "\n",
        "print(f_d3(x))"
      ]
    },
    {
      "cell_type": "markdown",
      "metadata": {
        "id": "TEtuJEX1LMiK"
      },
      "source": [
        "Displaying several derivatives:"
      ]
    },
    {
      "cell_type": "code",
      "execution_count": 29,
      "metadata": {
        "colab": {
          "base_uri": "https://localhost:8080/",
          "height": 830
        },
        "id": "5qa-jMcTLuXe",
        "outputId": "831b0249-17ae-4c49-bece-d7b16e0df480"
      },
      "outputs": [
        {
          "data": {
            "image/png": "[encoded data removed]",
            "text/plain": [
              "<Figure size 1000x1000 with 1 Axes>"
            ]
          },
          "metadata": {},
          "output_type": "display_data"
        }
      ],
      "source": [
        "def f(x):\n",
        "    return x**3 + 12*x + 7*x*jnp.sin(x)\n",
        "\n",
        "x = np.linspace(-10, 10, num=500)\n",
        "\n",
        "fig, ax = plt.subplots(figsize=(10,10))\n",
        "ax.plot(x, f(x), label = r\"$y = x^3 + 12x + 7x*sin(x)$\")\n",
        "\n",
        "df = f\n",
        "for d in range(1,4):\n",
        "  df = jax.grad(df)\n",
        "  #ax.plot(x, (df)(x), label=f'#{d} derivative')\n",
        "  ax.plot(x, jax.vmap(df)(x), label=f'#{d} derivative')\n",
        "  ax.legend()"
      ]
    },
    {
      "cell_type": "markdown",
      "metadata": {
        "id": "bBfuOkmQjunq"
      },
      "source": [
        "# Jacobians"
      ]
    },
    {
      "cell_type": "code",
      "execution_count": 30,
      "metadata": {
        "id": "CeBNWRtCogD8"
      },
      "outputs": [],
      "source": [
        "def f(x):\n",
        "  return [\n",
        "      x[0]**2 + x[1]**2 - x[1]*x[2],\n",
        "      x[0]**2 - x[1]**2 + 3*x[0]*x[2]\n",
        "  ]"
      ]
    },
    {
      "cell_type": "code",
      "execution_count": 31,
      "metadata": {
        "colab": {
          "base_uri": "https://localhost:8080/"
        },
        "id": "0T_xB5L0pXo6",
        "outputId": "13cab8c6-97de-49fa-cc76-24c28c0bc607"
      },
      "outputs": [
        {
          "name": "stdout",
          "output_type": "stream",
          "text": [
            "[Array([ 6.,  3., -4.], dtype=float32), Array([21., -8.,  9.], dtype=float32)]\n"
          ]
        }
      ],
      "source": [
        "print(jax.jacrev(f)(jnp.array([3.0, 4.0, 5.0])))"
      ]
    },
    {
      "cell_type": "code",
      "execution_count": 32,
      "metadata": {
        "colab": {
          "base_uri": "https://localhost:8080/"
        },
        "id": "-_FVRvIUpbGu",
        "outputId": "e829878d-85e3-498a-eb61-2227442c8236"
      },
      "outputs": [
        {
          "name": "stdout",
          "output_type": "stream",
          "text": [
            "[Array([ 6.,  3., -4.], dtype=float32), Array([21., -8.,  9.], dtype=float32)]\n"
          ]
        }
      ],
      "source": [
        "print(jax.jacfwd(f)(jnp.array([3.0, 4.0, 5.0])))"
      ]
    },
    {
      "cell_type": "code",
      "execution_count": 33,
      "metadata": {
        "colab": {
          "base_uri": "https://localhost:8080/"
        },
        "id": "Ioh2KzHZsXW1",
        "outputId": "ed3c5392-4f26-47d7-a69a-6e5a54042d77"
      },
      "outputs": [
        {
          "name": "stdout",
          "output_type": "stream",
          "text": [
            "18.3 ms ± 304 μs per loop (mean ± std. dev. of 7 runs, 100 loops each)\n"
          ]
        }
      ],
      "source": [
        "%timeit -n 100 jax.jacrev(f)(jnp.array([3.0, 4.0, 5.0]))"
      ]
    },
    {
      "cell_type": "code",
      "execution_count": 34,
      "metadata": {
        "colab": {
          "base_uri": "https://localhost:8080/"
        },
        "id": "eHsTWT_IspdL",
        "outputId": "d1c8258d-b340-445a-cb7b-8e454fb2756e"
      },
      "outputs": [
        {
          "name": "stdout",
          "output_type": "stream",
          "text": [
            "11.6 ms ± 149 μs per loop (mean ± std. dev. of 7 runs, 100 loops each)\n"
          ]
        }
      ],
      "source": [
        "%timeit -n 100 jax.jacfwd(f)(jnp.array([3.0, 4.0, 5.0]))"
      ]
    },
    {
      "cell_type": "markdown",
      "metadata": {
        "id": "sb6bSzWtykRc"
      },
      "source": [
        "# Hessian"
      ]
    },
    {
      "cell_type": "code",
      "execution_count": 35,
      "metadata": {
        "id": "Q9tvKi7wvZpe"
      },
      "outputs": [],
      "source": [
        "def f(x):\n",
        "  return x[0]**2 - x[1]**2 + 3*x[0]*x[2]"
      ]
    },
    {
      "cell_type": "code",
      "execution_count": 36,
      "metadata": {
        "colab": {
          "base_uri": "https://localhost:8080/"
        },
        "id": "EdgLzQD-zIGq",
        "outputId": "66c38342-afc0-4359-8d4b-20cde0f6bf5d"
      },
      "outputs": [
        {
          "data": {
            "text/plain": [
              "Array([[ 2.,  0.,  3.],\n",
              "       [ 0., -2.,  0.],\n",
              "       [ 3.,  0.,  0.]], dtype=float32)"
            ]
          },
          "execution_count": 36,
          "metadata": {},
          "output_type": "execute_result"
        }
      ],
      "source": [
        "jax.hessian(f)(jnp.array([3.0, 4.0, 5.0]))"
      ]
    },
    {
      "cell_type": "code",
      "execution_count": 37,
      "metadata": {
        "colab": {
          "base_uri": "https://localhost:8080/"
        },
        "id": "jfdaGk3dzNws",
        "outputId": "c1a28f8a-8459-455d-de8c-c76c7b64dac6"
      },
      "outputs": [
        {
          "data": {
            "text/plain": [
              "Array([[ 2.,  0.,  3.],\n",
              "       [ 0., -2.,  0.],\n",
              "       [ 3.,  0.,  0.]], dtype=float32)"
            ]
          },
          "execution_count": 37,
          "metadata": {},
          "output_type": "execute_result"
        }
      ],
      "source": [
        "jax.jacfwd(jax.grad(f))(jnp.array([3.0, 4.0, 5.0]))"
      ]
    },
    {
      "cell_type": "code",
      "execution_count": 38,
      "metadata": {
        "colab": {
          "base_uri": "https://localhost:8080/"
        },
        "id": "g8XNX0j60wE7",
        "outputId": "7522ac5a-4139-4370-e9b3-77d32cc3d8b4"
      },
      "outputs": [
        {
          "data": {
            "text/plain": [
              "Array([[ 2.,  0.,  3.],\n",
              "       [ 0., -2.,  0.],\n",
              "       [ 3.,  0.,  0.]], dtype=float32)"
            ]
          },
          "execution_count": 38,
          "metadata": {},
          "output_type": "execute_result"
        }
      ],
      "source": [
        "jax.jacfwd(jax.jacrev(f))(jnp.array([3.0, 4.0, 5.0]))"
      ]
    },
    {
      "cell_type": "markdown",
      "metadata": {
        "id": "-iSR6E4VMhyA"
      },
      "source": [
        "# JVP"
      ]
    },
    {
      "cell_type": "markdown",
      "metadata": {
        "id": "hFWQ_DMREUwZ"
      },
      "source": [
        "Code for checking manual computations"
      ]
    },
    {
      "cell_type": "code",
      "execution_count": 39,
      "metadata": {
        "id": "ljLgxOoMEUNK"
      },
      "outputs": [],
      "source": [
        "def f(x1,x2):\n",
        "  return x1*x2 + jnp.sin(x1*x2)"
      ]
    },
    {
      "cell_type": "code",
      "execution_count": 40,
      "metadata": {
        "id": "4W3UCl6pKRJb"
      },
      "outputs": [],
      "source": [
        "x = (7.0, 2.0)"
      ]
    },
    {
      "cell_type": "code",
      "execution_count": 41,
      "metadata": {
        "colab": {
          "base_uri": "https://localhost:8080/"
        },
        "id": "bkwUlzg9Enrj",
        "outputId": "591d93c2-497c-429f-dc94-d2a73cee0a11"
      },
      "outputs": [
        {
          "data": {
            "text/plain": [
              "Array(14.990607, dtype=float32, weak_type=True)"
            ]
          },
          "execution_count": 41,
          "metadata": {},
          "output_type": "execute_result"
        }
      ],
      "source": [
        "f(*x)"
      ]
    },
    {
      "cell_type": "code",
      "execution_count": 42,
      "metadata": {
        "colab": {
          "base_uri": "https://localhost:8080/"
        },
        "id": "WMq50nHyHDQU",
        "outputId": "c04c8341-cc71-4c1f-fa35-a103754b1071"
      },
      "outputs": [
        {
          "data": {
            "text/plain": [
              "Array(2.2734745, dtype=float32, weak_type=True)"
            ]
          },
          "execution_count": 42,
          "metadata": {},
          "output_type": "execute_result"
        }
      ],
      "source": [
        "jax.grad(f)(*x)"
      ]
    },
    {
      "cell_type": "code",
      "execution_count": 43,
      "metadata": {
        "colab": {
          "base_uri": "https://localhost:8080/"
        },
        "id": "2r2YVkMuHIdI",
        "outputId": "852470a5-dd07-4e88-e9d4-20b96c8b1195"
      },
      "outputs": [
        {
          "data": {
            "text/plain": [
              "(Array(2.2734745, dtype=float32, weak_type=True),\n",
              " Array(7.9571605, dtype=float32, weak_type=True))"
            ]
          },
          "execution_count": 43,
          "metadata": {},
          "output_type": "execute_result"
        }
      ],
      "source": [
        "jax.grad(f, argnums=(0,1))(*x)"
      ]
    },
    {
      "cell_type": "markdown",
      "metadata": {
        "id": "EFzdtG0XEY2F"
      },
      "source": [
        "JVP example"
      ]
    },
    {
      "cell_type": "code",
      "execution_count": 44,
      "metadata": {
        "id": "-Zxx6pas1f-V"
      },
      "outputs": [],
      "source": [
        "def f2(x):\n",
        "  return [\n",
        "      x[0]**2 + x[1]**2 - x[1]*x[2],\n",
        "      x[0]**2 - x[1]**2 + 3*x[0]*x[2]\n",
        "  ]\n",
        "\n",
        "x = jnp.array([3.0, 4.0, 5.0])\n",
        "v = jnp.array([1.0, 1.0, 1.0])"
      ]
    },
    {
      "cell_type": "code",
      "execution_count": 45,
      "metadata": {
        "colab": {
          "base_uri": "https://localhost:8080/",
          "height": 321
        },
        "id": "hLn7D5XlcCPJ",
        "outputId": "c9687f15-3653-4959-97fc-bfdb97225c46"
      },
      "outputs": [
        {
          "ename": "TypeError",
          "evalue": "primal and tangent arguments to jax.jvp must be tuples or lists; found ArrayImpl and ArrayImpl.",
          "output_type": "error",
          "traceback": [
            "\u001b[0;31m---------------------------------------------------------------------------\u001b[0m",
            "\u001b[0;31mTypeError\u001b[0m                                 Traceback (most recent call last)",
            "Cell \u001b[0;32mIn[45], line 1\u001b[0m\n\u001b[0;32m----> 1\u001b[0m p,t \u001b[38;5;241m=\u001b[39m \u001b[43mjax\u001b[49m\u001b[38;5;241;43m.\u001b[39;49m\u001b[43mjvp\u001b[49m\u001b[43m(\u001b[49m\u001b[43mf2\u001b[49m\u001b[43m,\u001b[49m\u001b[43m \u001b[49m\u001b[43mx\u001b[49m\u001b[43m,\u001b[49m\u001b[43m \u001b[49m\u001b[43mv\u001b[49m\u001b[43m)\u001b[49m\n",
            "File \u001b[0;32m~/.local/share/virtualenvs/JAX-in-Action-2DrGcPDg/lib/python3.11/site-packages/jax/_src/api.py:1901\u001b[0m, in \u001b[0;36mjvp\u001b[0;34m(fun, primals, tangents, has_aux)\u001b[0m\n\u001b[1;32m   1863\u001b[0m \u001b[38;5;250m\u001b[39m\u001b[38;5;124;03m\"\"\"Computes a (forward-mode) Jacobian-vector product of ``fun``.\u001b[39;00m\n\u001b[1;32m   1864\u001b[0m \n\u001b[1;32m   1865\u001b[0m \u001b[38;5;124;03mArgs:\u001b[39;00m\n\u001b[0;32m   (...)\u001b[0m\n\u001b[1;32m   1898\u001b[0m \u001b[38;5;124;03m0.19900084\u001b[39;00m\n\u001b[1;32m   1899\u001b[0m \u001b[38;5;124;03m\"\"\"\u001b[39;00m\n\u001b[1;32m   1900\u001b[0m check_callable(fun)\n\u001b[0;32m-> 1901\u001b[0m \u001b[38;5;28;01mreturn\u001b[39;00m \u001b[43m_jvp\u001b[49m\u001b[43m(\u001b[49m\u001b[43mlu\u001b[49m\u001b[38;5;241;43m.\u001b[39;49m\u001b[43mwrap_init\u001b[49m\u001b[43m(\u001b[49m\u001b[43mfun\u001b[49m\u001b[43m)\u001b[49m\u001b[43m,\u001b[49m\u001b[43m \u001b[49m\u001b[43mprimals\u001b[49m\u001b[43m,\u001b[49m\u001b[43m \u001b[49m\u001b[43mtangents\u001b[49m\u001b[43m,\u001b[49m\u001b[43m \u001b[49m\u001b[43mhas_aux\u001b[49m\u001b[38;5;241;43m=\u001b[39;49m\u001b[43mhas_aux\u001b[49m\u001b[43m)\u001b[49m\n",
            "File \u001b[0;32m~/.local/share/virtualenvs/JAX-in-Action-2DrGcPDg/lib/python3.11/site-packages/jax/_src/api.py:1907\u001b[0m, in \u001b[0;36m_jvp\u001b[0;34m(fun, primals, tangents, has_aux)\u001b[0m\n\u001b[1;32m   1904\u001b[0m \u001b[38;5;250m\u001b[39m\u001b[38;5;124;03m\"\"\"Variant of jvp() that takes an lu.WrappedFun.\"\"\"\u001b[39;00m\n\u001b[1;32m   1905\u001b[0m \u001b[38;5;28;01mif\u001b[39;00m (\u001b[38;5;129;01mnot\u001b[39;00m \u001b[38;5;28misinstance\u001b[39m(primals, (\u001b[38;5;28mtuple\u001b[39m, \u001b[38;5;28mlist\u001b[39m)) \u001b[38;5;129;01mor\u001b[39;00m\n\u001b[1;32m   1906\u001b[0m     \u001b[38;5;129;01mnot\u001b[39;00m \u001b[38;5;28misinstance\u001b[39m(tangents, (\u001b[38;5;28mtuple\u001b[39m, \u001b[38;5;28mlist\u001b[39m))):\n\u001b[0;32m-> 1907\u001b[0m   \u001b[38;5;28;01mraise\u001b[39;00m \u001b[38;5;167;01mTypeError\u001b[39;00m(\u001b[38;5;124m\"\u001b[39m\u001b[38;5;124mprimal and tangent arguments to jax.jvp must be tuples or lists; \u001b[39m\u001b[38;5;124m\"\u001b[39m\n\u001b[1;32m   1908\u001b[0m                   \u001b[38;5;124mf\u001b[39m\u001b[38;5;124m\"\u001b[39m\u001b[38;5;124mfound \u001b[39m\u001b[38;5;132;01m{\u001b[39;00m\u001b[38;5;28mtype\u001b[39m(primals)\u001b[38;5;241m.\u001b[39m\u001b[38;5;18m__name__\u001b[39m\u001b[38;5;132;01m}\u001b[39;00m\u001b[38;5;124m and \u001b[39m\u001b[38;5;132;01m{\u001b[39;00m\u001b[38;5;28mtype\u001b[39m(tangents)\u001b[38;5;241m.\u001b[39m\u001b[38;5;18m__name__\u001b[39m\u001b[38;5;132;01m}\u001b[39;00m\u001b[38;5;124m.\u001b[39m\u001b[38;5;124m\"\u001b[39m)\n\u001b[1;32m   1910\u001b[0m ps_flat, tree_def \u001b[38;5;241m=\u001b[39m tree_flatten(primals)\n\u001b[1;32m   1911\u001b[0m ts_flat, tree_def_2 \u001b[38;5;241m=\u001b[39m tree_flatten(tangents)\n",
            "\u001b[0;31mTypeError\u001b[0m: primal and tangent arguments to jax.jvp must be tuples or lists; found ArrayImpl and ArrayImpl."
          ]
        }
      ],
      "source": [
        "p,t = jax.jvp(f2, x, v)"
      ]
    },
    {
      "cell_type": "code",
      "execution_count": 46,
      "metadata": {
        "id": "nWdFiwOCPQxM"
      },
      "outputs": [],
      "source": [
        "p,t = jax.jvp(f2, (x,), (v,))"
      ]
    },
    {
      "cell_type": "code",
      "execution_count": 47,
      "metadata": {
        "colab": {
          "base_uri": "https://localhost:8080/"
        },
        "id": "Ru17K471PXeT",
        "outputId": "a2ffd1a5-710d-44e4-9dcd-c8b0b3de9241"
      },
      "outputs": [
        {
          "data": {
            "text/plain": [
              "[Array(5., dtype=float32), Array(38., dtype=float32)]"
            ]
          },
          "execution_count": 47,
          "metadata": {},
          "output_type": "execute_result"
        }
      ],
      "source": [
        "p"
      ]
    },
    {
      "cell_type": "code",
      "execution_count": 48,
      "metadata": {
        "colab": {
          "base_uri": "https://localhost:8080/"
        },
        "id": "CxxtONHmRVJ9",
        "outputId": "8b1bdcd4-a28c-48d1-c901-70ce88e63de2"
      },
      "outputs": [
        {
          "data": {
            "text/plain": [
              "[Array(5., dtype=float32), Array(22., dtype=float32)]"
            ]
          },
          "execution_count": 48,
          "metadata": {},
          "output_type": "execute_result"
        }
      ],
      "source": [
        "t"
      ]
    },
    {
      "cell_type": "code",
      "execution_count": 49,
      "metadata": {
        "colab": {
          "base_uri": "https://localhost:8080/"
        },
        "id": "Dl6TsTXLRbE_",
        "outputId": "6367fed5-1151-4b7c-a70c-642cf6f63a74"
      },
      "outputs": [
        {
          "data": {
            "text/plain": [
              "[Array(6., dtype=float32), Array(21., dtype=float32)]"
            ]
          },
          "execution_count": 49,
          "metadata": {},
          "output_type": "execute_result"
        }
      ],
      "source": [
        "p,t = jax.jvp(f2, (x,), (jnp.array([1.0, 0.0, 0.0]),))\n",
        "t"
      ]
    },
    {
      "cell_type": "code",
      "execution_count": 50,
      "metadata": {
        "colab": {
          "base_uri": "https://localhost:8080/"
        },
        "id": "2jiVZ0FUVQs_",
        "outputId": "b83e95d3-edab-4ecb-faa5-93566b2a35d1"
      },
      "outputs": [
        {
          "data": {
            "text/plain": [
              "[Array(3., dtype=float32), Array(-8., dtype=float32)]"
            ]
          },
          "execution_count": 50,
          "metadata": {},
          "output_type": "execute_result"
        }
      ],
      "source": [
        "p,t = jax.jvp(f2, (x,), (jnp.array([0.0, 1.0, 0.0]),))\n",
        "t"
      ]
    },
    {
      "cell_type": "code",
      "execution_count": 51,
      "metadata": {
        "colab": {
          "base_uri": "https://localhost:8080/"
        },
        "id": "koMKGSWRVlnk",
        "outputId": "4044869e-0152-44de-b96e-68257452b06d"
      },
      "outputs": [
        {
          "data": {
            "text/plain": [
              "[Array(-4., dtype=float32), Array(9., dtype=float32)]"
            ]
          },
          "execution_count": 51,
          "metadata": {},
          "output_type": "execute_result"
        }
      ],
      "source": [
        "p,t = jax.jvp(f2, (x,), (jnp.array([0.0, 0.0, 1.0]),))\n",
        "t"
      ]
    },
    {
      "cell_type": "markdown",
      "metadata": {
        "id": "4V1-MTDcW02R"
      },
      "source": [
        "Checking manual computations with jvp()"
      ]
    },
    {
      "cell_type": "code",
      "execution_count": 52,
      "metadata": {
        "id": "0G-3yWHzW4L7"
      },
      "outputs": [],
      "source": [
        "def f(x1,x2):\n",
        "  return x1*x2 + jnp.sin(x1*x2)\n",
        "\n",
        "x = (7.0, 2.0)\n",
        "\n",
        "p,t = jax.jvp(f, x, (1.0, 0.0))"
      ]
    },
    {
      "cell_type": "code",
      "execution_count": 53,
      "metadata": {
        "colab": {
          "base_uri": "https://localhost:8080/"
        },
        "id": "H2XC1YtUZF7P",
        "outputId": "980a77ca-dcc2-4f51-c7bc-434601d4f44e"
      },
      "outputs": [
        {
          "data": {
            "text/plain": [
              "Array(14.990607, dtype=float32, weak_type=True)"
            ]
          },
          "execution_count": 53,
          "metadata": {},
          "output_type": "execute_result"
        }
      ],
      "source": [
        "p"
      ]
    },
    {
      "cell_type": "code",
      "execution_count": 54,
      "metadata": {
        "colab": {
          "base_uri": "https://localhost:8080/"
        },
        "id": "Uowcrn6qZIL_",
        "outputId": "37199954-ceb5-4d40-e5f8-5026395ed88c"
      },
      "outputs": [
        {
          "data": {
            "text/plain": [
              "Array(2.2734745, dtype=float32, weak_type=True)"
            ]
          },
          "execution_count": 54,
          "metadata": {},
          "output_type": "execute_result"
        }
      ],
      "source": [
        "t"
      ]
    },
    {
      "cell_type": "markdown",
      "metadata": {
        "id": "ulC5nrNQVwFr"
      },
      "source": [
        "# VJP"
      ]
    },
    {
      "cell_type": "code",
      "execution_count": 55,
      "metadata": {
        "id": "YxaEy90hvGJ3"
      },
      "outputs": [],
      "source": [
        "def f(x1,x2):\n",
        "  return x1*x2 + jnp.sin(x1*x2)\n",
        "\n",
        "x = (7.0, 2.0)\n",
        "\n",
        "p,vjp_func = jax.vjp(f, *x)"
      ]
    },
    {
      "cell_type": "code",
      "execution_count": 56,
      "metadata": {
        "colab": {
          "base_uri": "https://localhost:8080/"
        },
        "id": "1doEbYw2vQNI",
        "outputId": "d955a900-1105-4327-9512-73ef0a4a94b6"
      },
      "outputs": [
        {
          "data": {
            "text/plain": [
              "Array(14.990607, dtype=float32, weak_type=True)"
            ]
          },
          "execution_count": 56,
          "metadata": {},
          "output_type": "execute_result"
        }
      ],
      "source": [
        "p"
      ]
    },
    {
      "cell_type": "code",
      "execution_count": 57,
      "metadata": {
        "colab": {
          "base_uri": "https://localhost:8080/"
        },
        "id": "eNIvJhrcw1vL",
        "outputId": "4cccf85e-edfc-45b7-d277-f3889ac7a326"
      },
      "outputs": [
        {
          "data": {
            "text/plain": [
              "(Array(2.2734745, dtype=float32, weak_type=True),\n",
              " Array(7.9571605, dtype=float32, weak_type=True))"
            ]
          },
          "execution_count": 57,
          "metadata": {},
          "output_type": "execute_result"
        }
      ],
      "source": [
        "vjp_func(1.0)"
      ]
    },
    {
      "cell_type": "code",
      "execution_count": 58,
      "metadata": {
        "colab": {
          "base_uri": "https://localhost:8080/"
        },
        "id": "pG7ivkazyde_",
        "outputId": "7681c21a-06f3-497b-d874-af96c2eb033f"
      },
      "outputs": [
        {
          "data": {
            "text/plain": [
              "(Array(4.546949, dtype=float32, weak_type=True),\n",
              " Array(15.914321, dtype=float32, weak_type=True))"
            ]
          },
          "execution_count": 58,
          "metadata": {},
          "output_type": "execute_result"
        }
      ],
      "source": [
        "vjp_func(2.0)"
      ]
    },
    {
      "cell_type": "markdown",
      "metadata": {
        "id": "tW_rmFUp0Lqr"
      },
      "source": [
        "More complicated function"
      ]
    },
    {
      "cell_type": "code",
      "execution_count": 59,
      "metadata": {
        "id": "3GyTfHX9Voik"
      },
      "outputs": [],
      "source": [
        "def f2(x):\n",
        "  return [\n",
        "      x[0]**2 + x[1]**2 - x[1]*x[2],\n",
        "      x[0]**2 - x[1]**2 + 3*x[0]*x[2]\n",
        "  ]\n",
        "\n",
        "x = jnp.array([3.0, 4.0, 5.0])"
      ]
    },
    {
      "cell_type": "code",
      "execution_count": 60,
      "metadata": {
        "id": "jtDjTacyYVhZ"
      },
      "outputs": [],
      "source": [
        "p,vjp_func = jax.vjp(f2, x)"
      ]
    },
    {
      "cell_type": "code",
      "execution_count": 61,
      "metadata": {
        "colab": {
          "base_uri": "https://localhost:8080/"
        },
        "id": "SCF01wQNZDet",
        "outputId": "279f0d96-e1b7-4f97-80c3-8a277b813d11"
      },
      "outputs": [
        {
          "data": {
            "text/plain": [
              "[Array(5., dtype=float32), Array(38., dtype=float32)]"
            ]
          },
          "execution_count": 61,
          "metadata": {},
          "output_type": "execute_result"
        }
      ],
      "source": [
        "p"
      ]
    },
    {
      "cell_type": "markdown",
      "metadata": {
        "id": "qCbEZi-J2HGy"
      },
      "source": [
        "Restoring rows of the Jacobian"
      ]
    },
    {
      "cell_type": "code",
      "execution_count": 62,
      "metadata": {
        "colab": {
          "base_uri": "https://localhost:8080/"
        },
        "id": "aP1TpR_jZJQw",
        "outputId": "6d7ac85e-81c8-4bef-bd16-bb1133e82ce9"
      },
      "outputs": [
        {
          "data": {
            "text/plain": [
              "(Array([ 6.,  3., -4.], dtype=float32),)"
            ]
          },
          "execution_count": 62,
          "metadata": {},
          "output_type": "execute_result"
        }
      ],
      "source": [
        "vjp_func([1.0, 0.0])"
      ]
    },
    {
      "cell_type": "code",
      "execution_count": 63,
      "metadata": {
        "colab": {
          "base_uri": "https://localhost:8080/"
        },
        "id": "oMiX5_S_ZOBm",
        "outputId": "da96be21-d299-40ef-8826-af5ce2091537"
      },
      "outputs": [
        {
          "data": {
            "text/plain": [
              "(Array([21., -8.,  9.], dtype=float32),)"
            ]
          },
          "execution_count": 63,
          "metadata": {},
          "output_type": "execute_result"
        }
      ],
      "source": [
        "vjp_func([0.0, 1.0])"
      ]
    },
    {
      "cell_type": "code",
      "execution_count": null,
      "metadata": {
        "id": "974Wws9Y0qRl"
      },
      "outputs": [],
      "source": []
    }
  ],
  "metadata": {
    "colab": {
      "provenance": [],
      "toc_visible": true
    },
    "kernelspec": {
      "display_name": "Python 3",
      "name": "python3"
    },
    "language_info": {
      "codemirror_mode": {
        "name": "ipython",
        "version": 3
      },
      "file_extension": ".py",
      "mimetype": "text/x-python",
      "name": "python",
      "nbconvert_exporter": "python",
      "pygments_lexer": "ipython3",
      "version": "3.11.0"
    }
  },
  "nbformat": 4,
  "nbformat_minor": 0
}
