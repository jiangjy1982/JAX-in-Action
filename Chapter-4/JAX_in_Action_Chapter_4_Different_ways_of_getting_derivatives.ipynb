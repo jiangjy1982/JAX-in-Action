{
  "cells": [
    {
      "cell_type": "markdown",
      "metadata": {
        "id": "09pyk3IhMw0c"
      },
      "source": [
        "## Different ways of getting derivatives"
      ]
    },
    {
      "cell_type": "markdown",
      "metadata": {
        "id": "1rKjlHKqMaH8"
      },
      "source": [
        "A mathematical simple function we will use in our examples:"
      ]
    },
    {
      "cell_type": "code",
      "execution_count": 1,
      "metadata": {
        "id": "OZprmjL1MXQ8"
      },
      "outputs": [],
      "source": [
        "def f(x):\n",
        "    return x**4 + 12*x + 1/x"
      ]
    },
    {
      "cell_type": "markdown",
      "metadata": {
        "id": "dmxr4Jt3M7lU"
      },
      "source": [
        "### Manual differentiation"
      ]
    },
    {
      "cell_type": "markdown",
      "metadata": {
        "id": "Ri0HlD2pNQpC"
      },
      "source": [
        "A closed-form expression for a derivative calculated manually:"
      ]
    },
    {
      "cell_type": "code",
      "execution_count": 2,
      "metadata": {
        "id": "R1b5BYYVMhno"
      },
      "outputs": [],
      "source": [
        "def df(x):\n",
        "    return 4*x**3 + 12 - 1/x**2"
      ]
    },
    {
      "cell_type": "code",
      "execution_count": 3,
      "metadata": {
        "id": "R4M_FF6qMtTC"
      },
      "outputs": [],
      "source": [
        "x = 11.0"
      ]
    },
    {
      "cell_type": "code",
      "execution_count": 4,
      "metadata": {
        "colab": {
          "base_uri": "https://localhost:8080/"
        },
        "id": "zAFml-L8Pp3G",
        "outputId": "ffa41e85-c8c0-4fed-f7ff-be06aa3e9bd3"
      },
      "outputs": [
        {
          "name": "stdout",
          "output_type": "stream",
          "text": [
            "14773.09090909091\n"
          ]
        }
      ],
      "source": [
        "print(f(x))"
      ]
    },
    {
      "cell_type": "code",
      "execution_count": 5,
      "metadata": {
        "colab": {
          "base_uri": "https://localhost:8080/"
        },
        "id": "h9ja42mPONC4",
        "outputId": "b2523e6d-9c96-490c-ea33-05a0d09135e0"
      },
      "outputs": [
        {
          "name": "stdout",
          "output_type": "stream",
          "text": [
            "5335.99173553719\n"
          ]
        }
      ],
      "source": [
        "print(df(x))"
      ]
    },
    {
      "cell_type": "markdown",
      "metadata": {
        "id": "DAjk74l_RDeP"
      },
      "source": [
        "### Symbolic differentiation"
      ]
    },
    {
      "cell_type": "code",
      "execution_count": 6,
      "metadata": {
        "id": "xgmajTIQRGkj"
      },
      "outputs": [],
      "source": [
        "import sympy"
      ]
    },
    {
      "cell_type": "code",
      "execution_count": 7,
      "metadata": {
        "id": "0JgYe_qCRYjd"
      },
      "outputs": [],
      "source": [
        "x_sym = sympy.symbols('x')"
      ]
    },
    {
      "cell_type": "code",
      "execution_count": 8,
      "metadata": {
        "id": "euk3sncgSVd5"
      },
      "outputs": [],
      "source": [
        "f_sym = f(x_sym)\n",
        "df_sym = sympy.diff(f_sym)"
      ]
    },
    {
      "cell_type": "code",
      "execution_count": 9,
      "metadata": {
        "colab": {
          "base_uri": "https://localhost:8080/"
        },
        "id": "6tloMKo8Sk8q",
        "outputId": "6fe97926-0ff3-4743-edd0-817bcd07978d"
      },
      "outputs": [
        {
          "name": "stdout",
          "output_type": "stream",
          "text": [
            "x**4 + 12*x + 1/x\n"
          ]
        }
      ],
      "source": [
        "print(f_sym)"
      ]
    },
    {
      "cell_type": "code",
      "execution_count": 10,
      "metadata": {
        "colab": {
          "base_uri": "https://localhost:8080/"
        },
        "id": "BC979fSWTSs2",
        "outputId": "85b7691d-6aa5-4dfb-f687-f31386d88845"
      },
      "outputs": [
        {
          "name": "stdout",
          "output_type": "stream",
          "text": [
            "4*x**3 + 12 - 1/x**2\n"
          ]
        }
      ],
      "source": [
        "print(df_sym)"
      ]
    },
    {
      "cell_type": "code",
      "execution_count": 11,
      "metadata": {
        "colab": {
          "base_uri": "https://localhost:8080/",
          "height": 51
        },
        "id": "R-sBLkx9TYEW",
        "outputId": "9bbcb57c-3c57-4043-de63-5dbe5669ce90"
      },
      "outputs": [
        {
          "data": {
            "text/latex": [
              "$\\displaystyle x^{4} + 12.0 x + \\frac{1}{x}$"
            ],
            "text/plain": [
              "x**4 + 12.0*x + 1/x"
            ]
          },
          "execution_count": 11,
          "metadata": {},
          "output_type": "execute_result"
        }
      ],
      "source": [
        "f_sym.evalf(subs={x: x})"
      ]
    },
    {
      "cell_type": "code",
      "execution_count": 12,
      "metadata": {
        "colab": {
          "base_uri": "https://localhost:8080/"
        },
        "id": "D5cANcsWVrWg",
        "outputId": "332ab496-b8ad-4807-8cd6-fa163b0986c3"
      },
      "outputs": [
        {
          "name": "stdout",
          "output_type": "stream",
          "text": [
            "14773.09090909091\n"
          ]
        }
      ],
      "source": [
        "f = sympy.lambdify(x_sym, f_sym)\n",
        "print(f(x))"
      ]
    },
    {
      "cell_type": "code",
      "execution_count": 13,
      "metadata": {
        "colab": {
          "base_uri": "https://localhost:8080/"
        },
        "id": "lBnfev7WTflH",
        "outputId": "12fd2b09-c114-4216-a838-21dc3c57c2fe"
      },
      "outputs": [
        {
          "name": "stdout",
          "output_type": "stream",
          "text": [
            "5335.99173553719\n"
          ]
        }
      ],
      "source": [
        "df = sympy.lambdify(x_sym, df_sym)\n",
        "print(df(x))"
      ]
    },
    {
      "cell_type": "markdown",
      "metadata": {
        "id": "96pn0MCNFEWk"
      },
      "source": [
        "## Numeric differentiation"
      ]
    },
    {
      "cell_type": "code",
      "execution_count": 14,
      "metadata": {
        "id": "tje5rh6_FGO-"
      },
      "outputs": [],
      "source": [
        "x = 11.0\n",
        "dx = 1e-6\n"
      ]
    },
    {
      "cell_type": "code",
      "execution_count": 15,
      "metadata": {
        "colab": {
          "base_uri": "https://localhost:8080/"
        },
        "id": "nc85mBq_FK_Z",
        "outputId": "9d6d8f40-7abf-4a71-c754-f823054f67db"
      },
      "outputs": [
        {
          "name": "stdout",
          "output_type": "stream",
          "text": [
            "5335.992456821259\n"
          ]
        }
      ],
      "source": [
        "df_x_numeric = (f(x+dx)-f(x))/dx\n",
        "\n",
        "print(df_x_numeric)"
      ]
    },
    {
      "cell_type": "markdown",
      "metadata": {
        "id": "3tAsjSvRGBke"
      },
      "source": [
        "## Automatic differentiation"
      ]
    },
    {
      "cell_type": "code",
      "execution_count": 16,
      "metadata": {
        "id": "zeEW8C9oWLoe"
      },
      "outputs": [],
      "source": [
        "import jax"
      ]
    },
    {
      "cell_type": "code",
      "execution_count": 17,
      "metadata": {
        "id": "-vZjFOruYlt3"
      },
      "outputs": [],
      "source": [
        "df = jax.grad(f)"
      ]
    },
    {
      "cell_type": "code",
      "execution_count": 18,
      "metadata": {
        "colab": {
          "base_uri": "https://localhost:8080/"
        },
        "id": "qXZNL9I0GHRf",
        "outputId": "0b631651-cbc4-426b-e454-f3c193412d95"
      },
      "outputs": [
        {
          "name": "stdout",
          "output_type": "stream",
          "text": [
            "5335.9917\n"
          ]
        }
      ],
      "source": [
        "print(df(x))"
      ]
    },
    {
      "cell_type": "code",
      "execution_count": null,
      "metadata": {},
      "outputs": [],
      "source": []
    }
  ],
  "metadata": {
    "colab": {
      "collapsed_sections": [],
      "name": "JAX in Action - Chapter 4 - Different ways of getting derivatives",
      "provenance": []
    },
    "gpuClass": "standard",
    "kernelspec": {
      "display_name": "Python 3",
      "name": "python3"
    },
    "language_info": {
      "codemirror_mode": {
        "name": "ipython",
        "version": 3
      },
      "file_extension": ".py",
      "mimetype": "text/x-python",
      "name": "python",
      "nbconvert_exporter": "python",
      "pygments_lexer": "ipython3",
      "version": "3.11.0"
    }
  },
  "nbformat": 4,
  "nbformat_minor": 0
}
