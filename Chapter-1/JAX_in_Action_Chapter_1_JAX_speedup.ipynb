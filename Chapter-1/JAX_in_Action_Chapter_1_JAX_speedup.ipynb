{
  "cells": [
    {
      "cell_type": "code",
      "execution_count": 1,
      "metadata": {
        "colab": {
          "base_uri": "https://localhost:8080/"
        },
        "id": "VnA4LuxbTyKb",
        "outputId": "d71b5b4d-f9b8-4205-b08a-6864cc9931a2"
      },
      "outputs": [
        {
          "name": "stdout",
          "output_type": "stream",
          "text": [
            "nvcc: NVIDIA (R) Cuda compiler driver\n",
            "Copyright (c) 2005-2024 NVIDIA Corporation\n",
            "Built on Thu_Mar_28_02:18:24_PDT_2024\n",
            "Cuda compilation tools, release 12.4, V12.4.131\n",
            "Build cuda_12.4.r12.4/compiler.34097967_0\n"
          ]
        }
      ],
      "source": [
        "!nvcc --version"
      ]
    },
    {
      "cell_type": "code",
      "execution_count": 2,
      "metadata": {
        "id": "DtPcc6kJUE50"
      },
      "outputs": [],
      "source": [
        "#!pip install --upgrade \"jax[cuda]\" -f https://storage.googleapis.com/jax-releases/jax_releases.html"
      ]
    },
    {
      "cell_type": "code",
      "execution_count": 2,
      "metadata": {
        "colab": {
          "base_uri": "https://localhost:8080/"
        },
        "id": "sI5-pu0SUN_n",
        "outputId": "df12f76f-7123-45ad-bbc7-5dc2b2199a5e"
      },
      "outputs": [
        {
          "name": "stdout",
          "output_type": "stream",
          "text": [
            "Sun Aug  4 12:16:42 2024       \n",
            "+-----------------------------------------------------------------------------------------+\n",
            "| NVIDIA-SMI 560.27                 Driver Version: 560.70         CUDA Version: 12.6     |\n",
            "|-----------------------------------------+------------------------+----------------------+\n",
            "| GPU  Name                 Persistence-M | Bus-Id          Disp.A | Volatile Uncorr. ECC |\n",
            "| Fan  Temp   Perf          Pwr:Usage/Cap |           Memory-Usage | GPU-Util  Compute M. |\n",
            "|                                         |                        |               MIG M. |\n",
            "|=========================================+========================+======================|\n",
            "|   0  NVIDIA GeForce RTX 4070 ...    On  |   00000000:01:00.0  On |                  N/A |\n",
            "|  0%   42C    P8              9W /  285W |    2029MiB /  16376MiB |     48%      Default |\n",
            "|                                         |                        |                  N/A |\n",
            "+-----------------------------------------+------------------------+----------------------+\n",
            "                                                                                         \n",
            "+-----------------------------------------------------------------------------------------+\n",
            "| Processes:                                                                              |\n",
            "|  GPU   GI   CI        PID   Type   Process name                              GPU Memory |\n",
            "|        ID   ID                                                               Usage      |\n",
            "|=========================================================================================|\n",
            "|  No running processes found                                                             |\n",
            "+-----------------------------------------------------------------------------------------+\n"
          ]
        }
      ],
      "source": [
        "gpu_info = !nvidia-smi\n",
        "gpu_info = '\\n'.join(gpu_info)\n",
        "if gpu_info.find('failed') >= 0:\n",
        "  print('Select the Runtime > \"Change runtime type\" menu to enable a GPU accelerator, ')\n",
        "  print('and then re-execute this cell.')\n",
        "else:\n",
        "  print(gpu_info)"
      ]
    },
    {
      "cell_type": "code",
      "execution_count": 3,
      "metadata": {
        "colab": {
          "base_uri": "https://localhost:8080/"
        },
        "id": "uRNTcpf8Ui_W",
        "outputId": "7cc7a135-8c45-4448-89a0-bd6fa800e467"
      },
      "outputs": [
        {
          "name": "stdout",
          "output_type": "stream",
          "text": [
            "gpu\n"
          ]
        }
      ],
      "source": [
        "from jax.lib import xla_bridge\n",
        "print(xla_bridge.get_backend().platform)"
      ]
    },
    {
      "cell_type": "code",
      "execution_count": 4,
      "metadata": {
        "id": "Ix8xq__wV7cX"
      },
      "outputs": [],
      "source": [
        "import jax"
      ]
    },
    {
      "cell_type": "code",
      "execution_count": 5,
      "metadata": {
        "colab": {
          "base_uri": "https://localhost:8080/"
        },
        "id": "JOg7ciNvUnYP",
        "outputId": "55240124-c1b4-47dc-dd11-8ba3e32cbf79"
      },
      "outputs": [
        {
          "data": {
            "text/plain": [
              "[cuda(id=0)]"
            ]
          },
          "execution_count": 5,
          "metadata": {},
          "output_type": "execute_result"
        }
      ],
      "source": [
        "jax.devices()"
      ]
    },
    {
      "cell_type": "code",
      "execution_count": 6,
      "metadata": {
        "colab": {
          "base_uri": "https://localhost:8080/"
        },
        "id": "u0Jwogb9Z6LD",
        "outputId": "3d916f3f-d25d-4071-b312-98d939791831"
      },
      "outputs": [
        {
          "data": {
            "text/plain": [
              "[CpuDevice(id=0)]"
            ]
          },
          "execution_count": 6,
          "metadata": {},
          "output_type": "execute_result"
        }
      ],
      "source": [
        "jax.devices(\"cpu\")"
      ]
    },
    {
      "cell_type": "code",
      "execution_count": 7,
      "metadata": {
        "colab": {
          "base_uri": "https://localhost:8080/"
        },
        "id": "8QVl4uEhZ9EC",
        "outputId": "b11d94b0-18f8-4681-93eb-624dd735db5f"
      },
      "outputs": [
        {
          "data": {
            "text/plain": [
              "[cuda(id=0)]"
            ]
          },
          "execution_count": 7,
          "metadata": {},
          "output_type": "execute_result"
        }
      ],
      "source": [
        "jax.devices(\"gpu\")"
      ]
    },
    {
      "cell_type": "code",
      "execution_count": 8,
      "metadata": {
        "id": "mpaNmoJaUquI"
      },
      "outputs": [],
      "source": [
        "import numpy as np\n",
        "import jax.numpy as jnp"
      ]
    },
    {
      "cell_type": "code",
      "execution_count": 9,
      "metadata": {
        "id": "HGIhumiobfA1"
      },
      "outputs": [
        {
          "data": {
            "text/plain": [
              "Array([[ 1.71871048e+02,  8.19977474e+00,  1.06485176e+01, ...,\n",
              "         1.96896732e+00,  5.80587924e-01,  4.19012547e+00],\n",
              "       [-2.37301445e+00,  1.43541393e+01,  7.59780049e-01, ...,\n",
              "         3.30399424e-01,  3.34734589e-01, -5.36943972e-02],\n",
              "       [ 2.06122375e+00,  1.69826183e+01,  8.65360451e+00, ...,\n",
              "         4.29970074e+00, -1.19282775e-01,  8.49998474e+00],\n",
              "       ...,\n",
              "       [ 2.40623260e+00,  2.07550123e-01,  6.37984180e+00, ...,\n",
              "         2.15799923e+01,  8.03496659e-01,  7.38873065e-01],\n",
              "       [ 2.94676375e+00, -1.61128402e-01,  2.05881566e-01, ...,\n",
              "         6.57972383e+00,  3.36179519e+00,  2.01247334e+00],\n",
              "       [ 3.71754098e+00,  8.14146709e+00, -4.31723166e+00, ...,\n",
              "         3.63160610e-01, -1.76449144e+00,  6.14816017e+01]],      dtype=float32)"
            ]
          },
          "execution_count": 9,
          "metadata": {},
          "output_type": "execute_result"
        }
      ],
      "source": [
        "# a function with some amount of calculations\n",
        "def f(x):\n",
        "  y1 = x + x*x + 3\n",
        "  y2 = x*x + x*x.T\n",
        "  return y1*y2\n",
        "\n",
        "# generate some random data\n",
        "x = np.random.randn(3000, 3000).astype('float32')\n",
        "jax_x_gpu = jax.device_put(jnp.array(x), jax.devices('gpu')[0])\n",
        "jax_x_cpu = jax.device_put(jnp.array(x), jax.devices('cpu')[0])\n",
        "\n",
        "# compile function to CPU and GPU backends with JAX\n",
        "jax_f_cpu = jax.jit(f, backend='cpu')\n",
        "jax_f_gpu = jax.jit(f, backend='gpu')\n",
        "\n",
        "# warm-up\n",
        "jax_f_cpu(jax_x_cpu)\n",
        "jax_f_gpu(jax_x_gpu)"
      ]
    },
    {
      "cell_type": "code",
      "execution_count": 10,
      "metadata": {
        "colab": {
          "base_uri": "https://localhost:8080/"
        },
        "id": "EeAFVSNNeL8b",
        "outputId": "a46419af-9f1a-4864-fcc0-e720ab2225bd"
      },
      "outputs": [
        {
          "name": "stdout",
          "output_type": "stream",
          "text": [
            "48 ms ± 320 μs per loop (mean ± std. dev. of 7 runs, 100 loops each)\n"
          ]
        }
      ],
      "source": [
        "%timeit -n100 f(x)"
      ]
    },
    {
      "cell_type": "code",
      "execution_count": 11,
      "metadata": {
        "colab": {
          "base_uri": "https://localhost:8080/"
        },
        "id": "GUULya4NfWiy",
        "outputId": "32d51f98-119d-4436-f7a2-faed0bcf6c81"
      },
      "outputs": [
        {
          "name": "stdout",
          "output_type": "stream",
          "text": [
            "41.6 ms ± 415 μs per loop (mean ± std. dev. of 7 runs, 100 loops each)\n"
          ]
        }
      ],
      "source": [
        "%timeit -n100 f(jax_x_cpu).block_until_ready()"
      ]
    },
    {
      "cell_type": "code",
      "execution_count": 12,
      "metadata": {
        "colab": {
          "base_uri": "https://localhost:8080/"
        },
        "id": "vzlZHhyxfDQC",
        "outputId": "b1aa4973-85e9-4a22-9737-89fd692e4fc3"
      },
      "outputs": [
        {
          "name": "stdout",
          "output_type": "stream",
          "text": [
            "7.52 ms ± 64.6 μs per loop (mean ± std. dev. of 7 runs, 100 loops each)\n"
          ]
        }
      ],
      "source": [
        "%timeit -n100 jax_f_cpu(jax_x_cpu).block_until_ready()"
      ]
    },
    {
      "cell_type": "code",
      "execution_count": 13,
      "metadata": {
        "colab": {
          "base_uri": "https://localhost:8080/"
        },
        "id": "Q3MqYbe6F1fB",
        "outputId": "d3f226a3-dab0-44f3-c2a8-9f3efb7abfc5"
      },
      "outputs": [
        {
          "name": "stdout",
          "output_type": "stream",
          "text": [
            "1.94 ms ± 558 μs per loop (mean ± std. dev. of 7 runs, 100 loops each)\n"
          ]
        }
      ],
      "source": [
        "%timeit -n100 f(jax_x_gpu).block_until_ready()"
      ]
    },
    {
      "cell_type": "code",
      "execution_count": 14,
      "metadata": {
        "colab": {
          "base_uri": "https://localhost:8080/"
        },
        "id": "0lZseCFDfQG_",
        "outputId": "35414270-957a-4e05-8007-fd9c2da9908b"
      },
      "outputs": [
        {
          "name": "stdout",
          "output_type": "stream",
          "text": [
            "1.41 ms ± 379 μs per loop (mean ± std. dev. of 7 runs, 100 loops each)\n"
          ]
        }
      ],
      "source": [
        "%timeit -n100 jax_f_gpu(jax_x_gpu).block_until_ready()"
      ]
    },
    {
      "cell_type": "code",
      "execution_count": 16,
      "metadata": {
        "colab": {
          "base_uri": "https://localhost:8080/"
        },
        "id": "uQwtrX21EeyZ",
        "outputId": "c06004c4-042f-477e-e9f5-176318fddfcf"
      },
      "outputs": [
        {
          "data": {
            "text/plain": [
              "{CpuDevice(id=0)}"
            ]
          },
          "execution_count": 16,
          "metadata": {},
          "output_type": "execute_result"
        }
      ],
      "source": [
        "jax_x_cpu.devices()"
      ]
    },
    {
      "cell_type": "code",
      "execution_count": 17,
      "metadata": {
        "colab": {
          "base_uri": "https://localhost:8080/"
        },
        "id": "7ni0L_Z8GT0A",
        "outputId": "7e2e4f0a-7813-4b4d-9ca9-b8c73ed1fead"
      },
      "outputs": [
        {
          "data": {
            "text/plain": [
              "{cuda(id=0)}"
            ]
          },
          "execution_count": 17,
          "metadata": {},
          "output_type": "execute_result"
        }
      ],
      "source": [
        "jax_x_gpu.devices()"
      ]
    }
  ],
  "metadata": {
    "accelerator": "GPU",
    "colab": {
      "collapsed_sections": [],
      "name": "JAX_in_Action_Chapter_1_JAX_speedup.ipynb",
      "provenance": []
    },
    "kernelspec": {
      "display_name": "Python 3",
      "name": "python3"
    },
    "language_info": {
      "codemirror_mode": {
        "name": "ipython",
        "version": 3
      },
      "file_extension": ".py",
      "mimetype": "text/x-python",
      "name": "python",
      "nbconvert_exporter": "python",
      "pygments_lexer": "ipython3",
      "version": "3.11.0"
    }
  },
  "nbformat": 4,
  "nbformat_minor": 0
}
