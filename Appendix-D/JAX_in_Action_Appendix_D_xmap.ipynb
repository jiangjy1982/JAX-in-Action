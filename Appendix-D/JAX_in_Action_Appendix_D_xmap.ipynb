{
  "cells": [
    {
      "cell_type": "markdown",
      "metadata": {
        "id": "JCirjpcFSPan"
      },
      "source": [
        "## ⚖️ Choose A or B:"
      ]
    },
    {
      "cell_type": "markdown",
      "metadata": {
        "id": "N5lNqNEGtLyO"
      },
      "source": [
        "## A: Emulating multi-device system on CPU\n",
        "\n",
        "Use this section to initialize a set of virtual devices on CPU if you have no access to a multi-device system.\n",
        "\n",
        "It can also help you prototype, debug and test your multi-device code locally before running it on the expensive system.\n",
        "\n",
        "Even in the case of using Google Colab it can help you prototype faster because a CPU runtime is faster to restart."
      ]
    },
    {
      "cell_type": "code",
      "execution_count": null,
      "metadata": {
        "id": "ypaH8OgftR_H"
      },
      "outputs": [],
      "source": [
        "import os\n",
        "os.environ['XLA_FLAGS'] = '--xla_force_host_platform_device_count=8'"
      ]
    },
    {
      "cell_type": "code",
      "execution_count": null,
      "metadata": {
        "id": "n8ip1VKgterO"
      },
      "outputs": [],
      "source": [
        "import jax\n",
        "import jax.numpy as jnp"
      ]
    },
    {
      "cell_type": "code",
      "execution_count": null,
      "metadata": {
        "colab": {
          "base_uri": "https://localhost:8080/"
        },
        "id": "Tlh75iWutfVT",
        "outputId": "72bcd8e8-5b0f-43ce-cd39-41ea331ce7cd"
      },
      "outputs": [],
      "source": [
        "jax.devices()"
      ]
    },
    {
      "cell_type": "markdown",
      "metadata": {
        "id": "Rmk_qf6mKCZx"
      },
      "source": [
        "## B: Setting up TPU"
      ]
    },
    {
      "cell_type": "markdown",
      "metadata": {
        "id": "RMq70OC9wVHQ"
      },
      "source": [
        "Make preparations according to the Appendix C or Chapter 3 example"
      ]
    },
    {
      "cell_type": "code",
      "execution_count": null,
      "metadata": {
        "colab": {
          "base_uri": "https://localhost:8080/"
        },
        "id": "q9_o0MwOu94x",
        "outputId": "3d943fa2-760d-42b3-d1a4-120d731206dd"
      },
      "outputs": [],
      "source": [
        "!pip install jax[tpu] -f https://storage.googleapis.com/jax-releases/libtpu_releases.html"
      ]
    },
    {
      "cell_type": "code",
      "execution_count": 1,
      "metadata": {
        "colab": {
          "base_uri": "https://localhost:8080/"
        },
        "id": "2aBy_QGmu-61",
        "outputId": "1d1bfd66-235f-4824-f089-5596f1ead0e4"
      },
      "outputs": [
        {
          "name": "stdout",
          "output_type": "stream",
          "text": [
            "tpu\n"
          ]
        }
      ],
      "source": [
        "from jax.lib import xla_bridge\n",
        "print(xla_bridge.get_backend().platform)"
      ]
    },
    {
      "cell_type": "code",
      "execution_count": 2,
      "metadata": {
        "id": "7c2IXWjRvFbj"
      },
      "outputs": [],
      "source": [
        "import jax\n",
        "import jax.numpy as jnp"
      ]
    },
    {
      "cell_type": "code",
      "execution_count": 3,
      "metadata": {
        "colab": {
          "base_uri": "https://localhost:8080/"
        },
        "id": "_qLo4vNRvHc-",
        "outputId": "a2683a11-5107-4cba-b442-4ebea7e6fa11"
      },
      "outputs": [
        {
          "data": {
            "text/plain": [
              "[TpuDevice(id=0, process_index=0, coords=(0,0,0), core_on_chip=0),\n",
              " TpuDevice(id=1, process_index=0, coords=(1,0,0), core_on_chip=0),\n",
              " TpuDevice(id=2, process_index=0, coords=(0,1,0), core_on_chip=0),\n",
              " TpuDevice(id=3, process_index=0, coords=(1,1,0), core_on_chip=0)]"
            ]
          },
          "execution_count": 3,
          "metadata": {},
          "output_type": "execute_result"
        }
      ],
      "source": [
        "jax.local_devices()"
      ]
    },
    {
      "cell_type": "markdown",
      "metadata": {
        "id": "e1KZMzA90Fuf"
      },
      "source": [
        "## Be sure you use JAX version >= 0.4.11"
      ]
    },
    {
      "cell_type": "code",
      "execution_count": 4,
      "metadata": {
        "colab": {
          "base_uri": "https://localhost:8080/"
        },
        "id": "zjxOeo4pz-Jc",
        "outputId": "a512d8ad-008b-4981-9cf5-e55da5790463"
      },
      "outputs": [
        {
          "data": {
            "text/plain": [
              "'0.4.31'"
            ]
          },
          "execution_count": 4,
          "metadata": {},
          "output_type": "execute_result"
        }
      ],
      "source": [
        "jax.__version__"
      ]
    },
    {
      "cell_type": "markdown",
      "metadata": {
        "id": "XRLNPE2Ese1D"
      },
      "source": [
        "## Introducing named axes"
      ]
    },
    {
      "cell_type": "code",
      "execution_count": 5,
      "metadata": {
        "id": "e3HsZ2PIsl3t"
      },
      "outputs": [
        {
          "ename": "ModuleNotFoundError",
          "evalue": "No module named 'jax.experimental.maps'",
          "output_type": "error",
          "traceback": [
            "\u001b[0;31m---------------------------------------------------------------------------\u001b[0m",
            "\u001b[0;31mModuleNotFoundError\u001b[0m                       Traceback (most recent call last)",
            "Cell \u001b[0;32mIn[5], line 1\u001b[0m\n\u001b[0;32m----> 1\u001b[0m \u001b[38;5;28;01mfrom\u001b[39;00m \u001b[38;5;21;01mjax\u001b[39;00m\u001b[38;5;21;01m.\u001b[39;00m\u001b[38;5;21;01mexperimental\u001b[39;00m\u001b[38;5;21;01m.\u001b[39;00m\u001b[38;5;21;01mmaps\u001b[39;00m \u001b[38;5;28;01mimport\u001b[39;00m xmap\n",
            "\u001b[0;31mModuleNotFoundError\u001b[0m: No module named 'jax.experimental.maps'"
          ]
        },
        {
          "ename": "",
          "evalue": "",
          "output_type": "error",
          "traceback": [
            "\u001b[1;31mThe Kernel crashed while executing code in the current cell or a previous cell. \n",
            "\u001b[1;31mPlease review the code in the cell(s) to identify a possible cause of the failure. \n",
            "\u001b[1;31mClick <a href='https://aka.ms/vscodeJupyterKernelCrash'>here</a> for more info. \n",
            "\u001b[1;31mView Jupyter <a href='command:jupyter.viewOutput'>log</a> for further details."
          ]
        }
      ],
      "source": [
        "from jax.experimental.maps import xmap"
      ]
    },
    {
      "cell_type": "code",
      "execution_count": null,
      "metadata": {
        "id": "-Bocy386sr3n"
      },
      "outputs": [],
      "source": [
        "from jax import random"
      ]
    },
    {
      "cell_type": "markdown",
      "metadata": {
        "id": "F1wKd0cB8iu5"
      },
      "source": [
        "### Replacing vmap+pmap"
      ]
    },
    {
      "cell_type": "code",
      "execution_count": null,
      "metadata": {
        "id": "2p2R6uG5tVpV"
      },
      "outputs": [],
      "source": [
        "def dot(v1, v2):\n",
        "  return jnp.vdot(v1, v2)"
      ]
    },
    {
      "cell_type": "code",
      "execution_count": null,
      "metadata": {
        "id": "SDMWf5eIswdB"
      },
      "outputs": [],
      "source": [
        "rng_key = random.PRNGKey(42)"
      ]
    },
    {
      "cell_type": "code",
      "execution_count": null,
      "metadata": {
        "colab": {
          "base_uri": "https://localhost:8080/"
        },
        "id": "THq8XQoAs8CH",
        "outputId": "e0acc982-e1d7-492e-fceb-40d29a30168e"
      },
      "outputs": [],
      "source": [
        "vs = random.normal(rng_key, shape=(20_000_000,3))\n",
        "v1s = vs[:10_000_000,:].T\n",
        "v2s = vs[10_000_000:,:].T\n",
        "\n",
        "v1s.shape, v2s.shape"
      ]
    },
    {
      "cell_type": "code",
      "execution_count": null,
      "metadata": {
        "colab": {
          "base_uri": "https://localhost:8080/"
        },
        "id": "jLM8V0BstMSD",
        "outputId": "53f1226a-abbf-4fbf-b427-66c5abf60502"
      },
      "outputs": [],
      "source": [
        "v1sp = v1s.reshape((v1s.shape[0], 8, v1s.shape[1]//8))\n",
        "v2sp = v2s.reshape((v2s.shape[0], 8, v2s.shape[1]//8))\n",
        "\n",
        "v1sp.shape, v2sp.shape"
      ]
    },
    {
      "cell_type": "code",
      "execution_count": null,
      "metadata": {
        "id": "xf9UVhJcNHH4"
      },
      "outputs": [],
      "source": [
        "dot_parallel = jax.pmap(\n",
        "    jax.vmap(dot, in_axes=(1,1)),\n",
        "    in_axes=(1,1)\n",
        ")"
      ]
    },
    {
      "cell_type": "code",
      "execution_count": null,
      "metadata": {
        "id": "8rdtr2F_NI_g"
      },
      "outputs": [],
      "source": [
        "x_pmap = dot_parallel(v1sp,v2sp)"
      ]
    },
    {
      "cell_type": "code",
      "execution_count": null,
      "metadata": {
        "colab": {
          "base_uri": "https://localhost:8080/"
        },
        "id": "dF37XSrzNLE0",
        "outputId": "a74c91b6-c480-434c-cbbb-c6641a65aa17"
      },
      "outputs": [],
      "source": [
        "x_pmap.shape"
      ]
    },
    {
      "cell_type": "code",
      "execution_count": null,
      "metadata": {
        "colab": {
          "base_uri": "https://localhost:8080/"
        },
        "id": "spEI1WDaNPXs",
        "outputId": "13db4bd4-1103-4893-8af7-a83b46ad2cfd"
      },
      "outputs": [],
      "source": [
        "x_pmap = x_pmap.reshape((x_pmap.shape[0]*x_pmap.shape[1]))\n",
        "x_pmap.shape"
      ]
    },
    {
      "cell_type": "code",
      "execution_count": null,
      "metadata": {
        "id": "ARSVrRjtu0si"
      },
      "outputs": [],
      "source": [
        "f = xmap(dot,\n",
        "         in_axes=(\n",
        "             {1:'device', 2:'batch'},\n",
        "             {1:'device', 2:'batch'}\n",
        "         ),\n",
        "         out_axes=['device', 'batch', ...]\n",
        ")"
      ]
    },
    {
      "cell_type": "code",
      "execution_count": null,
      "metadata": {
        "id": "A9sw0MMEuhET"
      },
      "outputs": [],
      "source": [
        "x_xmap=f(v1sp,v2sp)"
      ]
    },
    {
      "cell_type": "code",
      "execution_count": null,
      "metadata": {
        "colab": {
          "base_uri": "https://localhost:8080/"
        },
        "id": "wbWLvlWrurqH",
        "outputId": "78518a10-101e-415d-8ba1-2f8a70f58c2b"
      },
      "outputs": [],
      "source": [
        "x_xmap.shape"
      ]
    },
    {
      "cell_type": "code",
      "execution_count": null,
      "metadata": {
        "colab": {
          "base_uri": "https://localhost:8080/"
        },
        "id": "RKDLzPVlIxgU",
        "outputId": "130ae5cc-5eda-49c3-e8ca-9a13b4e2b0ec"
      },
      "outputs": [],
      "source": [
        "x_xmap = x_xmap.reshape((x_xmap.shape[0]*x_xmap.shape[1]))\n",
        "x_xmap.shape"
      ]
    },
    {
      "cell_type": "code",
      "execution_count": null,
      "metadata": {
        "colab": {
          "base_uri": "https://localhost:8080/"
        },
        "id": "D1q7GU6JIRYb",
        "outputId": "5beb43a2-58f0-4572-ebac-f1390a99a51c"
      },
      "outputs": [],
      "source": [
        "jax.numpy.all(x_xmap == x_pmap)"
      ]
    },
    {
      "cell_type": "markdown",
      "metadata": {
        "id": "rjXVLyPfJUjs"
      },
      "source": [
        "Einsum for comparison"
      ]
    },
    {
      "cell_type": "code",
      "execution_count": null,
      "metadata": {
        "id": "Fr7LYXZuLOGC"
      },
      "outputs": [],
      "source": [
        "import numpy as np"
      ]
    },
    {
      "cell_type": "code",
      "execution_count": null,
      "metadata": {
        "id": "AXwuHrGRJWjK"
      },
      "outputs": [],
      "source": [
        "dots = np.einsum(\"ib,ib->b\", v1s, v2s)"
      ]
    },
    {
      "cell_type": "code",
      "execution_count": null,
      "metadata": {
        "colab": {
          "base_uri": "https://localhost:8080/"
        },
        "id": "qLXZw8l5Jllx",
        "outputId": "f33cf196-7574-4d28-b98a-327592f4f4d2"
      },
      "outputs": [],
      "source": [
        "dots.shape"
      ]
    },
    {
      "cell_type": "code",
      "execution_count": null,
      "metadata": {
        "colab": {
          "base_uri": "https://localhost:8080/"
        },
        "id": "Hds5LT72JoYl",
        "outputId": "46bd150b-6a43-4aef-daa7-d2feb55b3234"
      },
      "outputs": [],
      "source": [
        "jax.numpy.all(x_xmap == dots)"
      ]
    },
    {
      "cell_type": "markdown",
      "metadata": {
        "id": "jJH8mOtd7hn3"
      },
      "source": [
        "Changing order of output axes"
      ]
    },
    {
      "cell_type": "code",
      "execution_count": null,
      "metadata": {
        "id": "ZCwABOzoN72M"
      },
      "outputs": [],
      "source": [
        "f = xmap(dot,\n",
        "         in_axes=(\n",
        "             {1:'device', 2:'batch'},\n",
        "             {1:'device', 2:'batch'}\n",
        "         ),\n",
        "         out_axes=['batch', 'device', ...]\n",
        ")"
      ]
    },
    {
      "cell_type": "code",
      "execution_count": null,
      "metadata": {
        "id": "d9BsiKK2UO4G"
      },
      "outputs": [],
      "source": [
        "x_xmap=f(v1sp,v2sp)"
      ]
    },
    {
      "cell_type": "code",
      "execution_count": null,
      "metadata": {
        "colab": {
          "base_uri": "https://localhost:8080/"
        },
        "id": "KMmTmgnvYeOw",
        "outputId": "90321934-1abf-4aa4-bca8-3a42cb4f7792"
      },
      "outputs": [],
      "source": [
        "x_xmap.shape"
      ]
    },
    {
      "cell_type": "markdown",
      "metadata": {
        "id": "59XJ0c-c8njL"
      },
      "source": [
        "## Using broadcasting"
      ]
    },
    {
      "cell_type": "code",
      "execution_count": null,
      "metadata": {
        "id": "VE-Ny7KmYgNC"
      },
      "outputs": [],
      "source": [
        "image = random.normal(rng_key, shape=(480,640,3)) # RGB image 640x480px\n",
        "filters = random.normal(rng_key, shape=(5,3,3))   # 5 matrix filters of size 3x3"
      ]
    },
    {
      "cell_type": "code",
      "execution_count": null,
      "metadata": {
        "id": "eIjYWOuf9j6J"
      },
      "outputs": [],
      "source": [
        "from jax.scipy.signal import convolve2d"
      ]
    },
    {
      "cell_type": "code",
      "execution_count": null,
      "metadata": {
        "id": "9Zm-dYN5AA6g"
      },
      "outputs": [],
      "source": [
        "def apply_filter(channel, kernel):\n",
        "  return convolve2d(channel, kernel, mode=\"same\")"
      ]
    },
    {
      "cell_type": "code",
      "execution_count": null,
      "metadata": {
        "id": "ej_I9TVpAbxL"
      },
      "outputs": [],
      "source": [
        "apply_filters_to_image = xmap(apply_filter,\n",
        "         in_axes=(\n",
        "             {2:'channel'},\n",
        "             {0:'filter'}\n",
        "         ),\n",
        "         out_axes={0:'filter', 3: 'channel'}\n",
        ")"
      ]
    },
    {
      "cell_type": "code",
      "execution_count": null,
      "metadata": {
        "id": "OwF7aAozBEQt"
      },
      "outputs": [],
      "source": [
        "res = apply_filters_to_image(image, filters)"
      ]
    },
    {
      "cell_type": "code",
      "execution_count": null,
      "metadata": {
        "colab": {
          "base_uri": "https://localhost:8080/"
        },
        "id": "M2iqtd__BRdH",
        "outputId": "99e64842-e5b1-42e6-9c34-85f3ba3d6b90"
      },
      "outputs": [],
      "source": [
        "res.shape # (filters, h, w, channels)"
      ]
    },
    {
      "cell_type": "markdown",
      "metadata": {
        "id": "X5GWbod5PkjA"
      },
      "source": [
        "## Using reductions"
      ]
    },
    {
      "cell_type": "code",
      "execution_count": null,
      "metadata": {
        "id": "ug4AF7AjAYjM"
      },
      "outputs": [],
      "source": [
        "f = xmap(\n",
        "     lambda x: jnp.sum(x, axis=['row']),\n",
        "     in_axes=['row', 'col'],\n",
        "     out_axes=['col']\n",
        "  )"
      ]
    },
    {
      "cell_type": "code",
      "execution_count": null,
      "metadata": {
        "id": "NkctSlJEPqdw"
      },
      "outputs": [],
      "source": [
        "C = jnp.array([\n",
        "    [1,2,3],\n",
        "    [4,5,6],\n",
        "    [7,8,9]\n",
        "])"
      ]
    },
    {
      "cell_type": "code",
      "execution_count": null,
      "metadata": {
        "colab": {
          "base_uri": "https://localhost:8080/"
        },
        "id": "SWuajOeJPs3X",
        "outputId": "d5fb06d3-2016-4f57-b07d-e6e4321b6914"
      },
      "outputs": [],
      "source": [
        "f(C)"
      ]
    },
    {
      "cell_type": "markdown",
      "metadata": {
        "id": "MCFHn3mauN1M"
      },
      "source": [
        "## Using collectives"
      ]
    },
    {
      "cell_type": "code",
      "execution_count": null,
      "metadata": {
        "colab": {
          "base_uri": "https://localhost:8080/"
        },
        "id": "-JgYIejauThB",
        "outputId": "99f76890-f026-4353-bbdf-8a3dca9b5540"
      },
      "outputs": [],
      "source": [
        "arr = jnp.array(range(8)).reshape(2,4)\n",
        "arr"
      ]
    },
    {
      "cell_type": "code",
      "execution_count": null,
      "metadata": {
        "id": "yU5SvNRYuPc7"
      },
      "outputs": [],
      "source": [
        "n_pmap = jax.pmap(\n",
        "    jax.pmap(\n",
        "        lambda x: x/jax.lax.psum(x, axis_name=('rows','cols')),\n",
        "        axis_name='cols'\n",
        "    ),\n",
        "    axis_name='rows')"
      ]
    },
    {
      "cell_type": "code",
      "execution_count": null,
      "metadata": {
        "colab": {
          "base_uri": "https://localhost:8080/"
        },
        "id": "HoHbmFEauVE8",
        "outputId": "3548968f-6a4d-41ac-d8d5-42bebfecd8b2"
      },
      "outputs": [],
      "source": [
        "jnp.sum(n_pmap(arr))"
      ]
    },
    {
      "cell_type": "code",
      "execution_count": null,
      "metadata": {
        "colab": {
          "base_uri": "https://localhost:8080/"
        },
        "id": "DToC8YQqu8_w",
        "outputId": "34360bc9-009f-40e6-898b-e842d3984e29"
      },
      "outputs": [],
      "source": [
        "n_pmap(arr)"
      ]
    },
    {
      "cell_type": "code",
      "execution_count": null,
      "metadata": {
        "id": "8QZoq0MruYL6"
      },
      "outputs": [],
      "source": [
        "n_xmap = xmap(\n",
        "    lambda x: x/jax.lax.psum(x, axis_name=('rows','cols')),\n",
        "    in_axes=['rows', 'cols', ...],\n",
        "    out_axes=['rows', 'cols', ...]\n",
        ")"
      ]
    },
    {
      "cell_type": "code",
      "execution_count": null,
      "metadata": {
        "colab": {
          "base_uri": "https://localhost:8080/"
        },
        "id": "SmsS7FRhuv1Q",
        "outputId": "1c9040a4-a012-46a1-ceb1-218305d5d422"
      },
      "outputs": [],
      "source": [
        "jnp.sum(n_xmap(arr))"
      ]
    },
    {
      "cell_type": "code",
      "execution_count": null,
      "metadata": {
        "colab": {
          "base_uri": "https://localhost:8080/"
        },
        "id": "8QpuEN6luxmb",
        "outputId": "cb3574f0-e249-44c2-e9f0-398d7447aa9c"
      },
      "outputs": [],
      "source": [
        "n_xmap(arr)"
      ]
    },
    {
      "cell_type": "code",
      "execution_count": null,
      "metadata": {
        "id": "xlAgK6buu7DI"
      },
      "outputs": [],
      "source": [
        "arr = jnp.array(range(10000)).reshape(100,100)"
      ]
    },
    {
      "cell_type": "code",
      "execution_count": null,
      "metadata": {
        "colab": {
          "base_uri": "https://localhost:8080/",
          "height": 488
        },
        "id": "fcV0FTCEu1Cu",
        "outputId": "869afa75-1899-4fd4-dd44-0b68e7291d80"
      },
      "outputs": [],
      "source": [
        "n_pmap(arr)"
      ]
    },
    {
      "cell_type": "code",
      "execution_count": null,
      "metadata": {
        "colab": {
          "base_uri": "https://localhost:8080/"
        },
        "id": "xdmO8OpJvGR5",
        "outputId": "bc434b71-0d6d-4e8e-c8ec-2b8168b0132a"
      },
      "outputs": [],
      "source": [
        "n_xmap(arr)"
      ]
    },
    {
      "cell_type": "markdown",
      "metadata": {
        "id": "D_GmkPedvILO"
      },
      "source": [
        "## Using meshes"
      ]
    },
    {
      "cell_type": "code",
      "execution_count": null,
      "metadata": {
        "id": "poE9ZsTevKdY"
      },
      "outputs": [],
      "source": [
        "from jax.sharding import Mesh"
      ]
    },
    {
      "cell_type": "code",
      "execution_count": null,
      "metadata": {
        "id": "SI0alZjP56SZ"
      },
      "outputs": [],
      "source": [
        "import numpy as np"
      ]
    },
    {
      "cell_type": "markdown",
      "metadata": {
        "id": "5-3l91_R8AK4"
      },
      "source": [
        "jnp.array doesn't work for this type:"
      ]
    },
    {
      "cell_type": "code",
      "execution_count": null,
      "metadata": {
        "colab": {
          "base_uri": "https://localhost:8080/",
          "height": 1000
        },
        "id": "fhVXuPX753TZ",
        "outputId": "21c0c0c7-c07c-4c58-f97b-5423a10c068a"
      },
      "outputs": [],
      "source": [
        "jnp.array(jax.devices()).reshape(4, 2)"
      ]
    },
    {
      "cell_type": "code",
      "execution_count": null,
      "metadata": {
        "colab": {
          "base_uri": "https://localhost:8080/"
        },
        "id": "26EiJI9V5vUA",
        "outputId": "24e09a55-387e-49c5-b0c6-c67785304a5f"
      },
      "outputs": [],
      "source": [
        "devices = np.array(jax.devices()).reshape(4, 2)\n",
        "devices"
      ]
    },
    {
      "cell_type": "code",
      "execution_count": null,
      "metadata": {
        "id": "Yy0yLNP96WVF"
      },
      "outputs": [],
      "source": [
        "with Mesh(devices, ('x', 'y')):\n",
        "  n_xmap = xmap(\n",
        "    lambda x: x/jax.lax.psum(x, axis_name=('rows','cols')),\n",
        "    in_axes=['rows', 'cols', ...],\n",
        "    out_axes=['rows', 'cols', ...],\n",
        "    axis_resources={'rows': 'x', 'cols': 'y'}\n",
        "  )\n",
        "\n",
        "  res = n_xmap(arr)"
      ]
    },
    {
      "cell_type": "code",
      "execution_count": null,
      "metadata": {
        "colab": {
          "base_uri": "https://localhost:8080/"
        },
        "id": "PeX5vCz5DvLP",
        "outputId": "8ad80464-b5fa-474c-c17b-7230f3465137"
      },
      "outputs": [],
      "source": [
        "type(res), res.shape"
      ]
    },
    {
      "cell_type": "markdown",
      "metadata": {
        "id": "ROMJFTHJ8Lu0"
      },
      "source": [
        "### Simplifying initial xmap example (getting rid of reshaping)"
      ]
    },
    {
      "cell_type": "code",
      "execution_count": null,
      "metadata": {
        "id": "nYWo9DGKEL74"
      },
      "outputs": [],
      "source": [
        "def dot(v1, v2):\n",
        "  return jnp.vdot(v1, v2)"
      ]
    },
    {
      "cell_type": "code",
      "execution_count": null,
      "metadata": {
        "colab": {
          "base_uri": "https://localhost:8080/"
        },
        "id": "hb0spwyQ8ZZT",
        "outputId": "57481595-5a8a-413d-c399-92645f60a635"
      },
      "outputs": [],
      "source": [
        "rng_key = random.PRNGKey(42)\n",
        "\n",
        "vs = random.normal(rng_key, shape=(20_000_000,3))\n",
        "v1s = vs[:10_000_000,:].T\n",
        "v2s = vs[10_000_000:,:].T\n",
        "\n",
        "v1s.shape, v2s.shape"
      ]
    },
    {
      "cell_type": "code",
      "execution_count": null,
      "metadata": {
        "id": "gWsiDN7S8nOS"
      },
      "outputs": [],
      "source": [
        "with Mesh(np.array(jax.devices()), ('device')):\n",
        "  f = xmap(dot,\n",
        "         in_axes=(\n",
        "             {1:'batch'},\n",
        "             {1:'batch'}\n",
        "         ),\n",
        "         out_axes=['batch', ...],\n",
        "         axis_resources={'batch': 'device'}\n",
        "  )\n",
        "  x_xmap=f(v1s,v2s)"
      ]
    },
    {
      "cell_type": "code",
      "execution_count": null,
      "metadata": {
        "colab": {
          "base_uri": "https://localhost:8080/"
        },
        "id": "dunw8JQ79LVM",
        "outputId": "85ce042f-632e-4119-ad07-636a90b7972f"
      },
      "outputs": [],
      "source": [
        "x_xmap.shape"
      ]
    },
    {
      "cell_type": "code",
      "execution_count": null,
      "metadata": {
        "colab": {
          "base_uri": "https://localhost:8080/"
        },
        "id": "sC-QLQaL9v_Q",
        "outputId": "87d69f0d-d9a9-4bec-fdab-5338e5e895eb"
      },
      "outputs": [],
      "source": [
        "jax.numpy.all(x_xmap == x_pmap)"
      ]
    },
    {
      "cell_type": "markdown",
      "metadata": {
        "id": "DVXNIzeGNkaF"
      },
      "source": [
        "## Neural network example with xmap() [NOT WORKING]"
      ]
    },
    {
      "cell_type": "markdown",
      "metadata": {
        "id": "K0voYQTnSloK"
      },
      "source": [
        "### Preparing data"
      ]
    },
    {
      "cell_type": "code",
      "execution_count": null,
      "metadata": {
        "colab": {
          "base_uri": "https://localhost:8080/"
        },
        "id": "mM6ZBCpqXvJ8",
        "outputId": "c15bfeea-7a3b-441d-9f0e-6f20df9b25e4"
      },
      "outputs": [],
      "source": [
        "!pip install tensorflow"
      ]
    },
    {
      "cell_type": "code",
      "execution_count": null,
      "metadata": {
        "colab": {
          "base_uri": "https://localhost:8080/"
        },
        "id": "NSiCX_NcXxQW",
        "outputId": "746b63be-e9c0-4b90-8e2c-3826f1af9e2d"
      },
      "outputs": [],
      "source": [
        "!pip install tensorflow_datasets"
      ]
    },
    {
      "cell_type": "code",
      "execution_count": null,
      "metadata": {
        "colab": {
          "base_uri": "https://localhost:8080/"
        },
        "id": "M3B-FAZOOKOH",
        "outputId": "0b87d625-dd90-44e4-c395-1bcdd8ff6df6"
      },
      "outputs": [],
      "source": [
        "import tensorflow as tf\n",
        "import tensorflow_datasets as tfds\n",
        "\n",
        "data_dir = '/tmp/tfds'\n",
        "\n",
        "data, info = tfds.load(name=\"mnist\",\n",
        "                       data_dir=data_dir,\n",
        "                       as_supervised=True,\n",
        "                       with_info=True)\n",
        "\n",
        "data_train = data['train']\n",
        "data_test  = data['test']"
      ]
    },
    {
      "cell_type": "code",
      "execution_count": null,
      "metadata": {
        "id": "GQW9KLknOSc4"
      },
      "outputs": [],
      "source": [
        "HEIGHT = 28\n",
        "WIDTH  = 28\n",
        "CHANNELS = 1\n",
        "NUM_PIXELS = HEIGHT * WIDTH * CHANNELS\n",
        "NUM_LABELS = info.features['label'].num_classes\n",
        "NUM_DEVICES = jax.device_count()\n",
        "BATCH_SIZE  = 32"
      ]
    },
    {
      "cell_type": "code",
      "execution_count": null,
      "metadata": {
        "id": "XEL-NZOjOV0_"
      },
      "outputs": [],
      "source": [
        "def preprocess(img, label):\n",
        "  \"\"\"Resize and preprocess images.\"\"\"\n",
        "  return (tf.cast(img, tf.float32)/255.0), label\n",
        "\n",
        "train_data = tfds.as_numpy(\n",
        "    data_train.map(preprocess).batch(NUM_DEVICES*BATCH_SIZE).prefetch(1)\n",
        ")\n",
        "test_data  = tfds.as_numpy(\n",
        "    data_test.map(preprocess).batch(NUM_DEVICES*BATCH_SIZE).prefetch(1)\n",
        ")"
      ]
    },
    {
      "cell_type": "code",
      "execution_count": null,
      "metadata": {
        "colab": {
          "base_uri": "https://localhost:8080/"
        },
        "id": "bcwCdU2-GU80",
        "outputId": "fb6e68bf-a081-488b-aa1d-633369433faa"
      },
      "outputs": [],
      "source": [
        "len(train_data)"
      ]
    },
    {
      "cell_type": "markdown",
      "metadata": {
        "id": "ilU3LzAeSolR"
      },
      "source": [
        "### Preparing MLP"
      ]
    },
    {
      "cell_type": "markdown",
      "metadata": {
        "id": "45KlnzLtE1UB"
      },
      "source": [
        "Potentially useful links:\n",
        "\n",
        "- my question https://github.com/google/jax/discussions/13861\n",
        "- translating simplified SPMD MLP to xmap (https://github.com/google/jax/issues/7167). Doesn't work because logsumexp uses pmax for which no differentiation rules implemented\n",
        "- some code for MLP with bias term and transformer blocks (https://gist.github.com/mattjj/ba9b24df446a90902d7b41aeb0766a99). Only xmap for loss, not xmap for diff(loss).\n",
        "- lax.pdot() documentation is actually missing (https://github.com/google/jax/pull/5020) (https://github.com/google/jax/discussions/13851)\n"
      ]
    },
    {
      "cell_type": "code",
      "execution_count": null,
      "metadata": {
        "id": "Q7B2PFjwOben"
      },
      "outputs": [],
      "source": [
        "import jax\n",
        "import jax.numpy as jnp\n",
        "from jax import grad, jit, vmap, value_and_grad\n",
        "from jax import random\n",
        "from jax.nn import swish, logsumexp, one_hot"
      ]
    },
    {
      "cell_type": "code",
      "execution_count": null,
      "metadata": {
        "id": "aG1Ixe95OiIv"
      },
      "outputs": [],
      "source": [
        "LAYER_SIZES = [28*28, 512, 10]\n",
        "AXES_NAMES  = ['inputs', 'hidden', 'classes']\n",
        "PARAM_SCALE = 0.01"
      ]
    },
    {
      "cell_type": "code",
      "execution_count": null,
      "metadata": {
        "colab": {
          "base_uri": "https://localhost:8080/"
        },
        "id": "8vENC9w64aR8",
        "outputId": "3aa09865-39e1-40dd-f31d-a62ca19f4258"
      },
      "outputs": [],
      "source": [
        "def init_network_params(sizes, key=random.PRNGKey(0), scale=1e-2):\n",
        "  \"\"\"Initialize all layers for a fully-connected neural network with given sizes\"\"\"\n",
        "\n",
        "  def random_layer_params(m, n, key, scale=1e-2):\n",
        "    \"\"\"A helper function to randomly initialize weights and biases of a dense layer\"\"\"\n",
        "    w_key, b_key = random.split(key)\n",
        "    print(f'Generating layer params: w={(m,n)} b={(n,)}')\n",
        "    return scale * random.normal(w_key, (m, n)), scale * random.normal(b_key, (n,))\n",
        "\n",
        "  keys = random.split(key, len(sizes))\n",
        "  return [random_layer_params(m, n, k, scale) for m, n, k in zip(sizes[:-1], sizes[1:], keys)]\n",
        "\n",
        "init_params = init_network_params(LAYER_SIZES, random.PRNGKey(0), scale=PARAM_SCALE)"
      ]
    },
    {
      "cell_type": "code",
      "execution_count": null,
      "metadata": {
        "id": "k9hQKmZXDC0p"
      },
      "outputs": [],
      "source": [
        "def predict(params, image):\n",
        "  \"\"\"Function for per-example predictions.\"\"\"\n",
        "  activations = image\n",
        "  for (w,b), axis in zip(params[:-1], AXES_NAMES):\n",
        "    outputs = jax.lax.pdot(activations, w, axis) + b\n",
        "    activations = swish(outputs)\n",
        "\n",
        "  final_w, final_b = params[-1]\n",
        "  axis = AXES_NAMES[-2]\n",
        "  logits = jax.lax.pdot(activations, final_w, axis) + final_b\n",
        "  return logits"
      ]
    },
    {
      "cell_type": "markdown",
      "metadata": {
        "id": "TdwS4P06Sr-P"
      },
      "source": [
        "### Loss and update functions"
      ]
    },
    {
      "cell_type": "code",
      "execution_count": null,
      "metadata": {
        "id": "bwg667wGO3Yy"
      },
      "outputs": [],
      "source": [
        "INIT_LR = 1.0\n",
        "DECAY_RATE = 0.95\n",
        "DECAY_STEPS = 5\n",
        "NUM_EPOCHS  = 20"
      ]
    },
    {
      "cell_type": "code",
      "execution_count": null,
      "metadata": {
        "id": "0Vmdg3ffadzW"
      },
      "outputs": [],
      "source": [
        "def loss(params, images, labels):\n",
        "  \"\"\"Categorical cross entropy loss function.\"\"\"\n",
        "  logits = predict(params, images)\n",
        "  log_preds = logits - logsumexp(logits, AXES_NAMES[-1])\n",
        "  num_classes = jax.lax.psum(1, AXES_NAMES[-1])\n",
        "  targets = one_hot(labels, num_classes, axis=AXES_NAMES[-1])\n",
        "  losses = jax.lax.psum(targets*log_preds, AXES_NAMES[-1])\n",
        "  return -jax.lax.pmean(losses, \"batch\")"
      ]
    },
    {
      "cell_type": "code",
      "execution_count": null,
      "metadata": {
        "id": "R8kvU4JrED54"
      },
      "outputs": [],
      "source": [
        "def update(params, x, y, epoch_number):\n",
        "  loss_value, grads = value_and_grad(loss)(params, x, y)\n",
        "  lr = INIT_LR * DECAY_RATE ** (epoch_number / DECAY_STEPS)\n",
        "  return [(w - lr * dw, b - lr * db)\n",
        "          for (w, b), (dw, db) in zip(params, grads)], loss_value"
      ]
    },
    {
      "cell_type": "code",
      "execution_count": null,
      "metadata": {
        "id": "GDM4aPOx7_BI"
      },
      "outputs": [],
      "source": [
        "update_named = xmap(update,\n",
        "                  in_axes=[\n",
        "                      [\n",
        "                          ({0: 'inputs', 1: 'hidden'}, {0: 'hidden'}),\n",
        "                          ({0: 'hidden', 1:'classes'}, {0:'classes'})\n",
        "                      ],\n",
        "                      {0: 'batch',  1: 'inputs'},\n",
        "                      {0: 'batch'},\n",
        "                      {}\n",
        "                  ],\n",
        "                  out_axes=(\n",
        "                      ([\n",
        "                        (['inputs', 'hidden', ...], ['hidden', ...]),\n",
        "                        (['hidden', 'classes', ...], ['classes', ...])\n",
        "                      ],\n",
        "                      {})\n",
        "                  ),\n",
        "                  )"
      ]
    },
    {
      "cell_type": "markdown",
      "metadata": {
        "id": "GKMrN2vOPLiW"
      },
      "source": [
        "### Section for debugging purposes"
      ]
    },
    {
      "cell_type": "code",
      "execution_count": null,
      "metadata": {
        "id": "9l5wT9U0O-7J"
      },
      "outputs": [],
      "source": [
        "train_data_iter = iter(train_data)\n",
        "x, y = next(train_data_iter)"
      ]
    },
    {
      "cell_type": "code",
      "execution_count": null,
      "metadata": {
        "colab": {
          "base_uri": "https://localhost:8080/"
        },
        "id": "fm2cdhekRNFC",
        "outputId": "a249288b-6130-43b8-da51-d4190c3d08d3"
      },
      "outputs": [],
      "source": [
        "x.shape, y.shape"
      ]
    },
    {
      "cell_type": "code",
      "execution_count": null,
      "metadata": {
        "colab": {
          "base_uri": "https://localhost:8080/"
        },
        "id": "ytR9XHd23525",
        "outputId": "89a1f5a3-c177-4681-8912-4f165bdc2441"
      },
      "outputs": [],
      "source": [
        "x = jnp.reshape(x, (NUM_DEVICES*BATCH_SIZE, NUM_PIXELS))\n",
        "#y = jnp.reshape(one_hot(y, NUM_LABELS), (NUM_DEVICES*BATCH_SIZE, NUM_LABELS))\n",
        "x.shape, y.shape"
      ]
    },
    {
      "cell_type": "code",
      "execution_count": null,
      "metadata": {
        "colab": {
          "base_uri": "https://localhost:8080/",
          "height": 1000
        },
        "id": "vSKemd9_QW1_",
        "outputId": "c25cef19-644a-420e-9774-64b18a24df7c"
      },
      "outputs": [],
      "source": [
        "updated_params, loss_value = update_named(init_params, x, y, 0)"
      ]
    },
    {
      "cell_type": "code",
      "execution_count": null,
      "metadata": {
        "colab": {
          "base_uri": "https://localhost:8080/",
          "height": 175
        },
        "id": "QqMETg4EBdNC",
        "outputId": "a7308812-30a7-466f-c0e4-cb0c2ba37c39"
      },
      "outputs": [],
      "source": [
        "loss_value"
      ]
    },
    {
      "cell_type": "code",
      "execution_count": null,
      "metadata": {
        "id": "aCDz6vpire4R"
      },
      "outputs": [],
      "source": [
        "?jax.lax.pdot"
      ]
    },
    {
      "cell_type": "markdown",
      "metadata": {
        "id": "4PFlq7EcS3q_"
      },
      "source": [
        "### Training loop"
      ]
    },
    {
      "cell_type": "code",
      "execution_count": null,
      "metadata": {
        "id": "Zw4DIGl5InbS"
      },
      "outputs": [],
      "source": [
        "@jit\n",
        "def batch_accuracy(params, images, targets):\n",
        "  images = jnp.reshape(images, (len(images), NUM_PIXELS))\n",
        "  predicted_class = jnp.argmax(vmap(predict)(params, images), axis=1)\n",
        "  return jnp.mean(predicted_class == targets)\n",
        "\n",
        "def accuracy(params, data):\n",
        "  accs = []\n",
        "  for images, targets in data:\n",
        "    accs.append(batch_accuracy(params, images, targets))\n",
        "  return jnp.mean(jnp.array(accs))"
      ]
    },
    {
      "cell_type": "code",
      "execution_count": null,
      "metadata": {
        "colab": {
          "base_uri": "https://localhost:8080/",
          "height": 1000
        },
        "id": "skYy98qTFUpP",
        "outputId": "52f292f8-fb9a-4c31-9c92-b003a297ce85"
      },
      "outputs": [],
      "source": [
        "import time\n",
        "\n",
        "params = init_params\n",
        "\n",
        "for epoch in range(NUM_EPOCHS):\n",
        "  start_time = time.time()\n",
        "  losses = []\n",
        "  for x, y in train_data:\n",
        "    num_elements = len(y)\n",
        "    x = jnp.reshape(x, (num_elements, NUM_PIXELS))\n",
        "    #y = jnp.reshape(one_hot(y, NUM_LABELS), (NUM_DEVICES, num_elements//NUM_DEVICES, NUM_LABELS))\n",
        "    params, loss_value = update_named(params, x, y, epoch)\n",
        "    losses.append(loss_value)\n",
        "  epoch_time = time.time() - start_time\n",
        "\n",
        "  #train_acc = accuracy(params, train_data)\n",
        "  #test_acc = accuracy(params, test_data)\n",
        "  print(\"Epoch {} in {:0.2f} sec\".format(epoch, epoch_time))\n",
        "  print(\"Training set loss {}\".format(jnp.mean(jnp.array(losses))))\n",
        "  #print(\"Training set accuracy {}\".format(train_acc))\n",
        "  #print(\"Test set accuracy {}\".format(test_acc))"
      ]
    },
    {
      "cell_type": "code",
      "execution_count": null,
      "metadata": {
        "id": "ZOcBSkNKEI6I"
      },
      "outputs": [],
      "source": []
    }
  ],
  "metadata": {
    "accelerator": "TPU",
    "colab": {
      "provenance": [],
      "toc_visible": true
    },
    "gpuClass": "standard",
    "kernelspec": {
      "display_name": "Python 3",
      "name": "python3"
    },
    "language_info": {
      "codemirror_mode": {
        "name": "ipython",
        "version": 3
      },
      "file_extension": ".py",
      "mimetype": "text/x-python",
      "name": "python",
      "nbconvert_exporter": "python",
      "pygments_lexer": "ipython3",
      "version": "3.10.12"
    }
  },
  "nbformat": 4,
  "nbformat_minor": 0
}
